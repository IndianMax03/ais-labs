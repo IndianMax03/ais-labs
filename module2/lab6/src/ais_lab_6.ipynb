{
  "nbformat": 4,
  "nbformat_minor": 0,
  "metadata": {
    "colab": {
      "provenance": []
    },
    "kernelspec": {
      "name": "python3",
      "display_name": "Python 3"
    },
    "language_info": {
      "name": "python"
    }
  },
  "cells": [
    {
      "cell_type": "markdown",
      "source": [
        "# Подготовка данных"
      ],
      "metadata": {
        "id": "LoY0Li0Ufphe"
      }
    },
    {
      "cell_type": "code",
      "source": [
        "%pip install ucimlrepo"
      ],
      "metadata": {
        "colab": {
          "base_uri": "https://localhost:8080/"
        },
        "id": "21cHR_J5fJxi",
        "outputId": "de84327b-b7b0-4361-915f-718107d9ad94"
      },
      "execution_count": 2005,
      "outputs": [
        {
          "output_type": "stream",
          "name": "stdout",
          "text": [
            "Requirement already satisfied: ucimlrepo in /usr/local/lib/python3.10/dist-packages (0.0.3)\n"
          ]
        }
      ]
    },
    {
      "cell_type": "code",
      "source": [
        "from ucimlrepo import fetch_ucirepo\n",
        "import pandas as pd\n",
        "import numpy as np\n",
        "import seaborn as sn\n",
        "import matplotlib.pyplot as plt\n",
        "import random\n",
        "import math"
      ],
      "metadata": {
        "id": "EO9Z8N20fJdo"
      },
      "execution_count": 2006,
      "outputs": []
    },
    {
      "cell_type": "code",
      "execution_count": 2007,
      "metadata": {
        "colab": {
          "base_uri": "https://localhost:8080/",
          "height": 444
        },
        "id": "vpotC3V4LDQb",
        "outputId": "ee172e28-bee0-4853-9a16-54f0e9751d50"
      },
      "outputs": [
        {
          "output_type": "execute_result",
          "data": {
            "text/plain": [
              "     cap-shape cap-surface cap-color bruises odor gill-attachment  \\\n",
              "0            x           s         n       t    p               f   \n",
              "1            x           s         y       t    a               f   \n",
              "2            b           s         w       t    l               f   \n",
              "3            x           y         w       t    p               f   \n",
              "4            x           s         g       f    n               f   \n",
              "...        ...         ...       ...     ...  ...             ...   \n",
              "8119         k           s         n       f    n               a   \n",
              "8120         x           s         n       f    n               a   \n",
              "8121         f           s         n       f    n               a   \n",
              "8122         k           y         n       f    y               f   \n",
              "8123         x           s         n       f    n               a   \n",
              "\n",
              "     gill-spacing gill-size gill-color stalk-shape  ...  \\\n",
              "0               c         n          k           e  ...   \n",
              "1               c         b          k           e  ...   \n",
              "2               c         b          n           e  ...   \n",
              "3               c         n          n           e  ...   \n",
              "4               w         b          k           t  ...   \n",
              "...           ...       ...        ...         ...  ...   \n",
              "8119            c         b          y           e  ...   \n",
              "8120            c         b          y           e  ...   \n",
              "8121            c         b          n           e  ...   \n",
              "8122            c         n          b           t  ...   \n",
              "8123            c         b          y           e  ...   \n",
              "\n",
              "     stalk-color-above-ring stalk-color-below-ring veil-type veil-color  \\\n",
              "0                         w                      w         p          w   \n",
              "1                         w                      w         p          w   \n",
              "2                         w                      w         p          w   \n",
              "3                         w                      w         p          w   \n",
              "4                         w                      w         p          w   \n",
              "...                     ...                    ...       ...        ...   \n",
              "8119                      o                      o         p          o   \n",
              "8120                      o                      o         p          n   \n",
              "8121                      o                      o         p          o   \n",
              "8122                      w                      w         p          w   \n",
              "8123                      o                      o         p          o   \n",
              "\n",
              "     ring-number ring-type spore-print-color population habitat poisonous  \n",
              "0              o         p                 k          s       u         p  \n",
              "1              o         p                 n          n       g         e  \n",
              "2              o         p                 n          n       m         e  \n",
              "3              o         p                 k          s       u         p  \n",
              "4              o         e                 n          a       g         e  \n",
              "...          ...       ...               ...        ...     ...       ...  \n",
              "8119           o         p                 b          c       l         e  \n",
              "8120           o         p                 b          v       l         e  \n",
              "8121           o         p                 b          c       l         e  \n",
              "8122           o         e                 w          v       l         p  \n",
              "8123           o         p                 o          c       l         e  \n",
              "\n",
              "[8124 rows x 23 columns]"
            ],
            "text/html": [
              "\n",
              "  <div id=\"df-1252887b-b729-4abd-959d-c4ef1fd5dadc\" class=\"colab-df-container\">\n",
              "    <div>\n",
              "<style scoped>\n",
              "    .dataframe tbody tr th:only-of-type {\n",
              "        vertical-align: middle;\n",
              "    }\n",
              "\n",
              "    .dataframe tbody tr th {\n",
              "        vertical-align: top;\n",
              "    }\n",
              "\n",
              "    .dataframe thead th {\n",
              "        text-align: right;\n",
              "    }\n",
              "</style>\n",
              "<table border=\"1\" class=\"dataframe\">\n",
              "  <thead>\n",
              "    <tr style=\"text-align: right;\">\n",
              "      <th></th>\n",
              "      <th>cap-shape</th>\n",
              "      <th>cap-surface</th>\n",
              "      <th>cap-color</th>\n",
              "      <th>bruises</th>\n",
              "      <th>odor</th>\n",
              "      <th>gill-attachment</th>\n",
              "      <th>gill-spacing</th>\n",
              "      <th>gill-size</th>\n",
              "      <th>gill-color</th>\n",
              "      <th>stalk-shape</th>\n",
              "      <th>...</th>\n",
              "      <th>stalk-color-above-ring</th>\n",
              "      <th>stalk-color-below-ring</th>\n",
              "      <th>veil-type</th>\n",
              "      <th>veil-color</th>\n",
              "      <th>ring-number</th>\n",
              "      <th>ring-type</th>\n",
              "      <th>spore-print-color</th>\n",
              "      <th>population</th>\n",
              "      <th>habitat</th>\n",
              "      <th>poisonous</th>\n",
              "    </tr>\n",
              "  </thead>\n",
              "  <tbody>\n",
              "    <tr>\n",
              "      <th>0</th>\n",
              "      <td>x</td>\n",
              "      <td>s</td>\n",
              "      <td>n</td>\n",
              "      <td>t</td>\n",
              "      <td>p</td>\n",
              "      <td>f</td>\n",
              "      <td>c</td>\n",
              "      <td>n</td>\n",
              "      <td>k</td>\n",
              "      <td>e</td>\n",
              "      <td>...</td>\n",
              "      <td>w</td>\n",
              "      <td>w</td>\n",
              "      <td>p</td>\n",
              "      <td>w</td>\n",
              "      <td>o</td>\n",
              "      <td>p</td>\n",
              "      <td>k</td>\n",
              "      <td>s</td>\n",
              "      <td>u</td>\n",
              "      <td>p</td>\n",
              "    </tr>\n",
              "    <tr>\n",
              "      <th>1</th>\n",
              "      <td>x</td>\n",
              "      <td>s</td>\n",
              "      <td>y</td>\n",
              "      <td>t</td>\n",
              "      <td>a</td>\n",
              "      <td>f</td>\n",
              "      <td>c</td>\n",
              "      <td>b</td>\n",
              "      <td>k</td>\n",
              "      <td>e</td>\n",
              "      <td>...</td>\n",
              "      <td>w</td>\n",
              "      <td>w</td>\n",
              "      <td>p</td>\n",
              "      <td>w</td>\n",
              "      <td>o</td>\n",
              "      <td>p</td>\n",
              "      <td>n</td>\n",
              "      <td>n</td>\n",
              "      <td>g</td>\n",
              "      <td>e</td>\n",
              "    </tr>\n",
              "    <tr>\n",
              "      <th>2</th>\n",
              "      <td>b</td>\n",
              "      <td>s</td>\n",
              "      <td>w</td>\n",
              "      <td>t</td>\n",
              "      <td>l</td>\n",
              "      <td>f</td>\n",
              "      <td>c</td>\n",
              "      <td>b</td>\n",
              "      <td>n</td>\n",
              "      <td>e</td>\n",
              "      <td>...</td>\n",
              "      <td>w</td>\n",
              "      <td>w</td>\n",
              "      <td>p</td>\n",
              "      <td>w</td>\n",
              "      <td>o</td>\n",
              "      <td>p</td>\n",
              "      <td>n</td>\n",
              "      <td>n</td>\n",
              "      <td>m</td>\n",
              "      <td>e</td>\n",
              "    </tr>\n",
              "    <tr>\n",
              "      <th>3</th>\n",
              "      <td>x</td>\n",
              "      <td>y</td>\n",
              "      <td>w</td>\n",
              "      <td>t</td>\n",
              "      <td>p</td>\n",
              "      <td>f</td>\n",
              "      <td>c</td>\n",
              "      <td>n</td>\n",
              "      <td>n</td>\n",
              "      <td>e</td>\n",
              "      <td>...</td>\n",
              "      <td>w</td>\n",
              "      <td>w</td>\n",
              "      <td>p</td>\n",
              "      <td>w</td>\n",
              "      <td>o</td>\n",
              "      <td>p</td>\n",
              "      <td>k</td>\n",
              "      <td>s</td>\n",
              "      <td>u</td>\n",
              "      <td>p</td>\n",
              "    </tr>\n",
              "    <tr>\n",
              "      <th>4</th>\n",
              "      <td>x</td>\n",
              "      <td>s</td>\n",
              "      <td>g</td>\n",
              "      <td>f</td>\n",
              "      <td>n</td>\n",
              "      <td>f</td>\n",
              "      <td>w</td>\n",
              "      <td>b</td>\n",
              "      <td>k</td>\n",
              "      <td>t</td>\n",
              "      <td>...</td>\n",
              "      <td>w</td>\n",
              "      <td>w</td>\n",
              "      <td>p</td>\n",
              "      <td>w</td>\n",
              "      <td>o</td>\n",
              "      <td>e</td>\n",
              "      <td>n</td>\n",
              "      <td>a</td>\n",
              "      <td>g</td>\n",
              "      <td>e</td>\n",
              "    </tr>\n",
              "    <tr>\n",
              "      <th>...</th>\n",
              "      <td>...</td>\n",
              "      <td>...</td>\n",
              "      <td>...</td>\n",
              "      <td>...</td>\n",
              "      <td>...</td>\n",
              "      <td>...</td>\n",
              "      <td>...</td>\n",
              "      <td>...</td>\n",
              "      <td>...</td>\n",
              "      <td>...</td>\n",
              "      <td>...</td>\n",
              "      <td>...</td>\n",
              "      <td>...</td>\n",
              "      <td>...</td>\n",
              "      <td>...</td>\n",
              "      <td>...</td>\n",
              "      <td>...</td>\n",
              "      <td>...</td>\n",
              "      <td>...</td>\n",
              "      <td>...</td>\n",
              "      <td>...</td>\n",
              "    </tr>\n",
              "    <tr>\n",
              "      <th>8119</th>\n",
              "      <td>k</td>\n",
              "      <td>s</td>\n",
              "      <td>n</td>\n",
              "      <td>f</td>\n",
              "      <td>n</td>\n",
              "      <td>a</td>\n",
              "      <td>c</td>\n",
              "      <td>b</td>\n",
              "      <td>y</td>\n",
              "      <td>e</td>\n",
              "      <td>...</td>\n",
              "      <td>o</td>\n",
              "      <td>o</td>\n",
              "      <td>p</td>\n",
              "      <td>o</td>\n",
              "      <td>o</td>\n",
              "      <td>p</td>\n",
              "      <td>b</td>\n",
              "      <td>c</td>\n",
              "      <td>l</td>\n",
              "      <td>e</td>\n",
              "    </tr>\n",
              "    <tr>\n",
              "      <th>8120</th>\n",
              "      <td>x</td>\n",
              "      <td>s</td>\n",
              "      <td>n</td>\n",
              "      <td>f</td>\n",
              "      <td>n</td>\n",
              "      <td>a</td>\n",
              "      <td>c</td>\n",
              "      <td>b</td>\n",
              "      <td>y</td>\n",
              "      <td>e</td>\n",
              "      <td>...</td>\n",
              "      <td>o</td>\n",
              "      <td>o</td>\n",
              "      <td>p</td>\n",
              "      <td>n</td>\n",
              "      <td>o</td>\n",
              "      <td>p</td>\n",
              "      <td>b</td>\n",
              "      <td>v</td>\n",
              "      <td>l</td>\n",
              "      <td>e</td>\n",
              "    </tr>\n",
              "    <tr>\n",
              "      <th>8121</th>\n",
              "      <td>f</td>\n",
              "      <td>s</td>\n",
              "      <td>n</td>\n",
              "      <td>f</td>\n",
              "      <td>n</td>\n",
              "      <td>a</td>\n",
              "      <td>c</td>\n",
              "      <td>b</td>\n",
              "      <td>n</td>\n",
              "      <td>e</td>\n",
              "      <td>...</td>\n",
              "      <td>o</td>\n",
              "      <td>o</td>\n",
              "      <td>p</td>\n",
              "      <td>o</td>\n",
              "      <td>o</td>\n",
              "      <td>p</td>\n",
              "      <td>b</td>\n",
              "      <td>c</td>\n",
              "      <td>l</td>\n",
              "      <td>e</td>\n",
              "    </tr>\n",
              "    <tr>\n",
              "      <th>8122</th>\n",
              "      <td>k</td>\n",
              "      <td>y</td>\n",
              "      <td>n</td>\n",
              "      <td>f</td>\n",
              "      <td>y</td>\n",
              "      <td>f</td>\n",
              "      <td>c</td>\n",
              "      <td>n</td>\n",
              "      <td>b</td>\n",
              "      <td>t</td>\n",
              "      <td>...</td>\n",
              "      <td>w</td>\n",
              "      <td>w</td>\n",
              "      <td>p</td>\n",
              "      <td>w</td>\n",
              "      <td>o</td>\n",
              "      <td>e</td>\n",
              "      <td>w</td>\n",
              "      <td>v</td>\n",
              "      <td>l</td>\n",
              "      <td>p</td>\n",
              "    </tr>\n",
              "    <tr>\n",
              "      <th>8123</th>\n",
              "      <td>x</td>\n",
              "      <td>s</td>\n",
              "      <td>n</td>\n",
              "      <td>f</td>\n",
              "      <td>n</td>\n",
              "      <td>a</td>\n",
              "      <td>c</td>\n",
              "      <td>b</td>\n",
              "      <td>y</td>\n",
              "      <td>e</td>\n",
              "      <td>...</td>\n",
              "      <td>o</td>\n",
              "      <td>o</td>\n",
              "      <td>p</td>\n",
              "      <td>o</td>\n",
              "      <td>o</td>\n",
              "      <td>p</td>\n",
              "      <td>o</td>\n",
              "      <td>c</td>\n",
              "      <td>l</td>\n",
              "      <td>e</td>\n",
              "    </tr>\n",
              "  </tbody>\n",
              "</table>\n",
              "<p>8124 rows × 23 columns</p>\n",
              "</div>\n",
              "    <div class=\"colab-df-buttons\">\n",
              "\n",
              "  <div class=\"colab-df-container\">\n",
              "    <button class=\"colab-df-convert\" onclick=\"convertToInteractive('df-1252887b-b729-4abd-959d-c4ef1fd5dadc')\"\n",
              "            title=\"Convert this dataframe to an interactive table.\"\n",
              "            style=\"display:none;\">\n",
              "\n",
              "  <svg xmlns=\"http://www.w3.org/2000/svg\" height=\"24px\" viewBox=\"0 -960 960 960\">\n",
              "    <path d=\"M120-120v-720h720v720H120Zm60-500h600v-160H180v160Zm220 220h160v-160H400v160Zm0 220h160v-160H400v160ZM180-400h160v-160H180v160Zm440 0h160v-160H620v160ZM180-180h160v-160H180v160Zm440 0h160v-160H620v160Z\"/>\n",
              "  </svg>\n",
              "    </button>\n",
              "\n",
              "  <style>\n",
              "    .colab-df-container {\n",
              "      display:flex;\n",
              "      gap: 12px;\n",
              "    }\n",
              "\n",
              "    .colab-df-convert {\n",
              "      background-color: #E8F0FE;\n",
              "      border: none;\n",
              "      border-radius: 50%;\n",
              "      cursor: pointer;\n",
              "      display: none;\n",
              "      fill: #1967D2;\n",
              "      height: 32px;\n",
              "      padding: 0 0 0 0;\n",
              "      width: 32px;\n",
              "    }\n",
              "\n",
              "    .colab-df-convert:hover {\n",
              "      background-color: #E2EBFA;\n",
              "      box-shadow: 0px 1px 2px rgba(60, 64, 67, 0.3), 0px 1px 3px 1px rgba(60, 64, 67, 0.15);\n",
              "      fill: #174EA6;\n",
              "    }\n",
              "\n",
              "    .colab-df-buttons div {\n",
              "      margin-bottom: 4px;\n",
              "    }\n",
              "\n",
              "    [theme=dark] .colab-df-convert {\n",
              "      background-color: #3B4455;\n",
              "      fill: #D2E3FC;\n",
              "    }\n",
              "\n",
              "    [theme=dark] .colab-df-convert:hover {\n",
              "      background-color: #434B5C;\n",
              "      box-shadow: 0px 1px 3px 1px rgba(0, 0, 0, 0.15);\n",
              "      filter: drop-shadow(0px 1px 2px rgba(0, 0, 0, 0.3));\n",
              "      fill: #FFFFFF;\n",
              "    }\n",
              "  </style>\n",
              "\n",
              "    <script>\n",
              "      const buttonEl =\n",
              "        document.querySelector('#df-1252887b-b729-4abd-959d-c4ef1fd5dadc button.colab-df-convert');\n",
              "      buttonEl.style.display =\n",
              "        google.colab.kernel.accessAllowed ? 'block' : 'none';\n",
              "\n",
              "      async function convertToInteractive(key) {\n",
              "        const element = document.querySelector('#df-1252887b-b729-4abd-959d-c4ef1fd5dadc');\n",
              "        const dataTable =\n",
              "          await google.colab.kernel.invokeFunction('convertToInteractive',\n",
              "                                                    [key], {});\n",
              "        if (!dataTable) return;\n",
              "\n",
              "        const docLinkHtml = 'Like what you see? Visit the ' +\n",
              "          '<a target=\"_blank\" href=https://colab.research.google.com/notebooks/data_table.ipynb>data table notebook</a>'\n",
              "          + ' to learn more about interactive tables.';\n",
              "        element.innerHTML = '';\n",
              "        dataTable['output_type'] = 'display_data';\n",
              "        await google.colab.output.renderOutput(dataTable, element);\n",
              "        const docLink = document.createElement('div');\n",
              "        docLink.innerHTML = docLinkHtml;\n",
              "        element.appendChild(docLink);\n",
              "      }\n",
              "    </script>\n",
              "  </div>\n",
              "\n",
              "\n",
              "<div id=\"df-ca6d3ead-6066-4236-8416-302980b01c6b\">\n",
              "  <button class=\"colab-df-quickchart\" onclick=\"quickchart('df-ca6d3ead-6066-4236-8416-302980b01c6b')\"\n",
              "            title=\"Suggest charts.\"\n",
              "            style=\"display:none;\">\n",
              "\n",
              "<svg xmlns=\"http://www.w3.org/2000/svg\" height=\"24px\"viewBox=\"0 0 24 24\"\n",
              "     width=\"24px\">\n",
              "    <g>\n",
              "        <path d=\"M19 3H5c-1.1 0-2 .9-2 2v14c0 1.1.9 2 2 2h14c1.1 0 2-.9 2-2V5c0-1.1-.9-2-2-2zM9 17H7v-7h2v7zm4 0h-2V7h2v10zm4 0h-2v-4h2v4z\"/>\n",
              "    </g>\n",
              "</svg>\n",
              "  </button>\n",
              "\n",
              "<style>\n",
              "  .colab-df-quickchart {\n",
              "      --bg-color: #E8F0FE;\n",
              "      --fill-color: #1967D2;\n",
              "      --hover-bg-color: #E2EBFA;\n",
              "      --hover-fill-color: #174EA6;\n",
              "      --disabled-fill-color: #AAA;\n",
              "      --disabled-bg-color: #DDD;\n",
              "  }\n",
              "\n",
              "  [theme=dark] .colab-df-quickchart {\n",
              "      --bg-color: #3B4455;\n",
              "      --fill-color: #D2E3FC;\n",
              "      --hover-bg-color: #434B5C;\n",
              "      --hover-fill-color: #FFFFFF;\n",
              "      --disabled-bg-color: #3B4455;\n",
              "      --disabled-fill-color: #666;\n",
              "  }\n",
              "\n",
              "  .colab-df-quickchart {\n",
              "    background-color: var(--bg-color);\n",
              "    border: none;\n",
              "    border-radius: 50%;\n",
              "    cursor: pointer;\n",
              "    display: none;\n",
              "    fill: var(--fill-color);\n",
              "    height: 32px;\n",
              "    padding: 0;\n",
              "    width: 32px;\n",
              "  }\n",
              "\n",
              "  .colab-df-quickchart:hover {\n",
              "    background-color: var(--hover-bg-color);\n",
              "    box-shadow: 0 1px 2px rgba(60, 64, 67, 0.3), 0 1px 3px 1px rgba(60, 64, 67, 0.15);\n",
              "    fill: var(--button-hover-fill-color);\n",
              "  }\n",
              "\n",
              "  .colab-df-quickchart-complete:disabled,\n",
              "  .colab-df-quickchart-complete:disabled:hover {\n",
              "    background-color: var(--disabled-bg-color);\n",
              "    fill: var(--disabled-fill-color);\n",
              "    box-shadow: none;\n",
              "  }\n",
              "\n",
              "  .colab-df-spinner {\n",
              "    border: 2px solid var(--fill-color);\n",
              "    border-color: transparent;\n",
              "    border-bottom-color: var(--fill-color);\n",
              "    animation:\n",
              "      spin 1s steps(1) infinite;\n",
              "  }\n",
              "\n",
              "  @keyframes spin {\n",
              "    0% {\n",
              "      border-color: transparent;\n",
              "      border-bottom-color: var(--fill-color);\n",
              "      border-left-color: var(--fill-color);\n",
              "    }\n",
              "    20% {\n",
              "      border-color: transparent;\n",
              "      border-left-color: var(--fill-color);\n",
              "      border-top-color: var(--fill-color);\n",
              "    }\n",
              "    30% {\n",
              "      border-color: transparent;\n",
              "      border-left-color: var(--fill-color);\n",
              "      border-top-color: var(--fill-color);\n",
              "      border-right-color: var(--fill-color);\n",
              "    }\n",
              "    40% {\n",
              "      border-color: transparent;\n",
              "      border-right-color: var(--fill-color);\n",
              "      border-top-color: var(--fill-color);\n",
              "    }\n",
              "    60% {\n",
              "      border-color: transparent;\n",
              "      border-right-color: var(--fill-color);\n",
              "    }\n",
              "    80% {\n",
              "      border-color: transparent;\n",
              "      border-right-color: var(--fill-color);\n",
              "      border-bottom-color: var(--fill-color);\n",
              "    }\n",
              "    90% {\n",
              "      border-color: transparent;\n",
              "      border-bottom-color: var(--fill-color);\n",
              "    }\n",
              "  }\n",
              "</style>\n",
              "\n",
              "  <script>\n",
              "    async function quickchart(key) {\n",
              "      const quickchartButtonEl =\n",
              "        document.querySelector('#' + key + ' button');\n",
              "      quickchartButtonEl.disabled = true;  // To prevent multiple clicks.\n",
              "      quickchartButtonEl.classList.add('colab-df-spinner');\n",
              "      try {\n",
              "        const charts = await google.colab.kernel.invokeFunction(\n",
              "            'suggestCharts', [key], {});\n",
              "      } catch (error) {\n",
              "        console.error('Error during call to suggestCharts:', error);\n",
              "      }\n",
              "      quickchartButtonEl.classList.remove('colab-df-spinner');\n",
              "      quickchartButtonEl.classList.add('colab-df-quickchart-complete');\n",
              "    }\n",
              "    (() => {\n",
              "      let quickchartButtonEl =\n",
              "        document.querySelector('#df-ca6d3ead-6066-4236-8416-302980b01c6b button');\n",
              "      quickchartButtonEl.style.display =\n",
              "        google.colab.kernel.accessAllowed ? 'block' : 'none';\n",
              "    })();\n",
              "  </script>\n",
              "</div>\n",
              "    </div>\n",
              "  </div>\n"
            ]
          },
          "metadata": {},
          "execution_count": 2007
        }
      ],
      "source": [
        "# fetch dataset\n",
        "mushroom = fetch_ucirepo(id=73)\n",
        "\n",
        "# data (as pandas dataframes)\n",
        "X = mushroom.data.features\n",
        "Y = mushroom.data.targets\n",
        "\n",
        "data = pd.concat([X, Y], axis=1)\n",
        "data"
      ]
    },
    {
      "cell_type": "markdown",
      "source": [
        "Проверка отсутствующих значений"
      ],
      "metadata": {
        "id": "EG1v7m62AYeW"
      }
    },
    {
      "cell_type": "code",
      "source": [
        "X.isnull().sum()"
      ],
      "metadata": {
        "colab": {
          "base_uri": "https://localhost:8080/"
        },
        "id": "YFKd0lA69jkS",
        "outputId": "16f0eafb-b9c6-49c0-9463-b39e9249fe1a"
      },
      "execution_count": 2008,
      "outputs": [
        {
          "output_type": "execute_result",
          "data": {
            "text/plain": [
              "cap-shape                      0\n",
              "cap-surface                    0\n",
              "cap-color                      0\n",
              "bruises                        0\n",
              "odor                           0\n",
              "gill-attachment                0\n",
              "gill-spacing                   0\n",
              "gill-size                      0\n",
              "gill-color                     0\n",
              "stalk-shape                    0\n",
              "stalk-root                  2480\n",
              "stalk-surface-above-ring       0\n",
              "stalk-surface-below-ring       0\n",
              "stalk-color-above-ring         0\n",
              "stalk-color-below-ring         0\n",
              "veil-type                      0\n",
              "veil-color                     0\n",
              "ring-number                    0\n",
              "ring-type                      0\n",
              "spore-print-color              0\n",
              "population                     0\n",
              "habitat                        0\n",
              "dtype: int64"
            ]
          },
          "metadata": {},
          "execution_count": 2008
        }
      ]
    },
    {
      "cell_type": "code",
      "source": [
        "unique_values = []\n",
        "for i in X['stalk-root'].values:\n",
        "    if i not in unique_values and i is not None:\n",
        "        unique_values.append(i)\n",
        "\n",
        "X['stalk-root'].fillna(np.random.choice(unique_values), inplace=True)"
      ],
      "metadata": {
        "colab": {
          "base_uri": "https://localhost:8080/"
        },
        "id": "lyHZifKn831l",
        "outputId": "501bef22-dc9d-40b2-a966-30ab84aff729"
      },
      "execution_count": 2009,
      "outputs": [
        {
          "output_type": "stream",
          "name": "stderr",
          "text": [
            "<ipython-input-2009-05db89ee2efa>:6: SettingWithCopyWarning: \n",
            "A value is trying to be set on a copy of a slice from a DataFrame\n",
            "\n",
            "See the caveats in the documentation: https://pandas.pydata.org/pandas-docs/stable/user_guide/indexing.html#returning-a-view-versus-a-copy\n",
            "  X['stalk-root'].fillna(np.random.choice(unique_values), inplace=True)\n"
          ]
        }
      ]
    },
    {
      "cell_type": "code",
      "source": [
        "X.isnull().sum()"
      ],
      "metadata": {
        "colab": {
          "base_uri": "https://localhost:8080/"
        },
        "id": "q4c3AJbE-9CL",
        "outputId": "5f4dd19a-0e01-441b-99f0-fd33ac9d7469"
      },
      "execution_count": 2010,
      "outputs": [
        {
          "output_type": "execute_result",
          "data": {
            "text/plain": [
              "cap-shape                   0\n",
              "cap-surface                 0\n",
              "cap-color                   0\n",
              "bruises                     0\n",
              "odor                        0\n",
              "gill-attachment             0\n",
              "gill-spacing                0\n",
              "gill-size                   0\n",
              "gill-color                  0\n",
              "stalk-shape                 0\n",
              "stalk-root                  0\n",
              "stalk-surface-above-ring    0\n",
              "stalk-surface-below-ring    0\n",
              "stalk-color-above-ring      0\n",
              "stalk-color-below-ring      0\n",
              "veil-type                   0\n",
              "veil-color                  0\n",
              "ring-number                 0\n",
              "ring-type                   0\n",
              "spore-print-color           0\n",
              "population                  0\n",
              "habitat                     0\n",
              "dtype: int64"
            ]
          },
          "metadata": {},
          "execution_count": 2010
        }
      ]
    },
    {
      "cell_type": "markdown",
      "source": [
        "# Отбор признаков"
      ],
      "metadata": {
        "id": "gGRqy619fuy5"
      }
    },
    {
      "cell_type": "code",
      "source": [
        "columns_count = int(math.sqrt(len(X.columns)))\n",
        "droppin_count = len(X.columns) - columns_count"
      ],
      "metadata": {
        "id": "S4K8DHi08BGI"
      },
      "execution_count": 2011,
      "outputs": []
    },
    {
      "cell_type": "code",
      "source": [
        "columns = X.columns.values\n",
        "\n",
        "columns_to_drop = np.random.choice(columns, size=droppin_count, replace=False)\n",
        "\n",
        "X = X.drop(columns_to_drop, axis=1)"
      ],
      "metadata": {
        "id": "VNgBpNSe8lEE"
      },
      "execution_count": 2012,
      "outputs": []
    },
    {
      "cell_type": "code",
      "source": [
        "X"
      ],
      "metadata": {
        "colab": {
          "base_uri": "https://localhost:8080/",
          "height": 411
        },
        "id": "JWHADkP-9CpU",
        "outputId": "06a9e3d5-a62b-4d13-8c58-dca4fea2d005"
      },
      "execution_count": 2013,
      "outputs": [
        {
          "output_type": "execute_result",
          "data": {
            "text/plain": [
              "     gill-color stalk-surface-above-ring population habitat\n",
              "0             k                        s          s       u\n",
              "1             k                        s          n       g\n",
              "2             n                        s          n       m\n",
              "3             n                        s          s       u\n",
              "4             k                        s          a       g\n",
              "...         ...                      ...        ...     ...\n",
              "8119          y                        s          c       l\n",
              "8120          y                        s          v       l\n",
              "8121          n                        s          c       l\n",
              "8122          b                        s          v       l\n",
              "8123          y                        s          c       l\n",
              "\n",
              "[8124 rows x 4 columns]"
            ],
            "text/html": [
              "\n",
              "  <div id=\"df-cbd267e3-597e-4246-aaab-ceb92d0d4381\" class=\"colab-df-container\">\n",
              "    <div>\n",
              "<style scoped>\n",
              "    .dataframe tbody tr th:only-of-type {\n",
              "        vertical-align: middle;\n",
              "    }\n",
              "\n",
              "    .dataframe tbody tr th {\n",
              "        vertical-align: top;\n",
              "    }\n",
              "\n",
              "    .dataframe thead th {\n",
              "        text-align: right;\n",
              "    }\n",
              "</style>\n",
              "<table border=\"1\" class=\"dataframe\">\n",
              "  <thead>\n",
              "    <tr style=\"text-align: right;\">\n",
              "      <th></th>\n",
              "      <th>gill-color</th>\n",
              "      <th>stalk-surface-above-ring</th>\n",
              "      <th>population</th>\n",
              "      <th>habitat</th>\n",
              "    </tr>\n",
              "  </thead>\n",
              "  <tbody>\n",
              "    <tr>\n",
              "      <th>0</th>\n",
              "      <td>k</td>\n",
              "      <td>s</td>\n",
              "      <td>s</td>\n",
              "      <td>u</td>\n",
              "    </tr>\n",
              "    <tr>\n",
              "      <th>1</th>\n",
              "      <td>k</td>\n",
              "      <td>s</td>\n",
              "      <td>n</td>\n",
              "      <td>g</td>\n",
              "    </tr>\n",
              "    <tr>\n",
              "      <th>2</th>\n",
              "      <td>n</td>\n",
              "      <td>s</td>\n",
              "      <td>n</td>\n",
              "      <td>m</td>\n",
              "    </tr>\n",
              "    <tr>\n",
              "      <th>3</th>\n",
              "      <td>n</td>\n",
              "      <td>s</td>\n",
              "      <td>s</td>\n",
              "      <td>u</td>\n",
              "    </tr>\n",
              "    <tr>\n",
              "      <th>4</th>\n",
              "      <td>k</td>\n",
              "      <td>s</td>\n",
              "      <td>a</td>\n",
              "      <td>g</td>\n",
              "    </tr>\n",
              "    <tr>\n",
              "      <th>...</th>\n",
              "      <td>...</td>\n",
              "      <td>...</td>\n",
              "      <td>...</td>\n",
              "      <td>...</td>\n",
              "    </tr>\n",
              "    <tr>\n",
              "      <th>8119</th>\n",
              "      <td>y</td>\n",
              "      <td>s</td>\n",
              "      <td>c</td>\n",
              "      <td>l</td>\n",
              "    </tr>\n",
              "    <tr>\n",
              "      <th>8120</th>\n",
              "      <td>y</td>\n",
              "      <td>s</td>\n",
              "      <td>v</td>\n",
              "      <td>l</td>\n",
              "    </tr>\n",
              "    <tr>\n",
              "      <th>8121</th>\n",
              "      <td>n</td>\n",
              "      <td>s</td>\n",
              "      <td>c</td>\n",
              "      <td>l</td>\n",
              "    </tr>\n",
              "    <tr>\n",
              "      <th>8122</th>\n",
              "      <td>b</td>\n",
              "      <td>s</td>\n",
              "      <td>v</td>\n",
              "      <td>l</td>\n",
              "    </tr>\n",
              "    <tr>\n",
              "      <th>8123</th>\n",
              "      <td>y</td>\n",
              "      <td>s</td>\n",
              "      <td>c</td>\n",
              "      <td>l</td>\n",
              "    </tr>\n",
              "  </tbody>\n",
              "</table>\n",
              "<p>8124 rows × 4 columns</p>\n",
              "</div>\n",
              "    <div class=\"colab-df-buttons\">\n",
              "\n",
              "  <div class=\"colab-df-container\">\n",
              "    <button class=\"colab-df-convert\" onclick=\"convertToInteractive('df-cbd267e3-597e-4246-aaab-ceb92d0d4381')\"\n",
              "            title=\"Convert this dataframe to an interactive table.\"\n",
              "            style=\"display:none;\">\n",
              "\n",
              "  <svg xmlns=\"http://www.w3.org/2000/svg\" height=\"24px\" viewBox=\"0 -960 960 960\">\n",
              "    <path d=\"M120-120v-720h720v720H120Zm60-500h600v-160H180v160Zm220 220h160v-160H400v160Zm0 220h160v-160H400v160ZM180-400h160v-160H180v160Zm440 0h160v-160H620v160ZM180-180h160v-160H180v160Zm440 0h160v-160H620v160Z\"/>\n",
              "  </svg>\n",
              "    </button>\n",
              "\n",
              "  <style>\n",
              "    .colab-df-container {\n",
              "      display:flex;\n",
              "      gap: 12px;\n",
              "    }\n",
              "\n",
              "    .colab-df-convert {\n",
              "      background-color: #E8F0FE;\n",
              "      border: none;\n",
              "      border-radius: 50%;\n",
              "      cursor: pointer;\n",
              "      display: none;\n",
              "      fill: #1967D2;\n",
              "      height: 32px;\n",
              "      padding: 0 0 0 0;\n",
              "      width: 32px;\n",
              "    }\n",
              "\n",
              "    .colab-df-convert:hover {\n",
              "      background-color: #E2EBFA;\n",
              "      box-shadow: 0px 1px 2px rgba(60, 64, 67, 0.3), 0px 1px 3px 1px rgba(60, 64, 67, 0.15);\n",
              "      fill: #174EA6;\n",
              "    }\n",
              "\n",
              "    .colab-df-buttons div {\n",
              "      margin-bottom: 4px;\n",
              "    }\n",
              "\n",
              "    [theme=dark] .colab-df-convert {\n",
              "      background-color: #3B4455;\n",
              "      fill: #D2E3FC;\n",
              "    }\n",
              "\n",
              "    [theme=dark] .colab-df-convert:hover {\n",
              "      background-color: #434B5C;\n",
              "      box-shadow: 0px 1px 3px 1px rgba(0, 0, 0, 0.15);\n",
              "      filter: drop-shadow(0px 1px 2px rgba(0, 0, 0, 0.3));\n",
              "      fill: #FFFFFF;\n",
              "    }\n",
              "  </style>\n",
              "\n",
              "    <script>\n",
              "      const buttonEl =\n",
              "        document.querySelector('#df-cbd267e3-597e-4246-aaab-ceb92d0d4381 button.colab-df-convert');\n",
              "      buttonEl.style.display =\n",
              "        google.colab.kernel.accessAllowed ? 'block' : 'none';\n",
              "\n",
              "      async function convertToInteractive(key) {\n",
              "        const element = document.querySelector('#df-cbd267e3-597e-4246-aaab-ceb92d0d4381');\n",
              "        const dataTable =\n",
              "          await google.colab.kernel.invokeFunction('convertToInteractive',\n",
              "                                                    [key], {});\n",
              "        if (!dataTable) return;\n",
              "\n",
              "        const docLinkHtml = 'Like what you see? Visit the ' +\n",
              "          '<a target=\"_blank\" href=https://colab.research.google.com/notebooks/data_table.ipynb>data table notebook</a>'\n",
              "          + ' to learn more about interactive tables.';\n",
              "        element.innerHTML = '';\n",
              "        dataTable['output_type'] = 'display_data';\n",
              "        await google.colab.output.renderOutput(dataTable, element);\n",
              "        const docLink = document.createElement('div');\n",
              "        docLink.innerHTML = docLinkHtml;\n",
              "        element.appendChild(docLink);\n",
              "      }\n",
              "    </script>\n",
              "  </div>\n",
              "\n",
              "\n",
              "<div id=\"df-dd6c6acb-0d2c-496f-825c-283501586817\">\n",
              "  <button class=\"colab-df-quickchart\" onclick=\"quickchart('df-dd6c6acb-0d2c-496f-825c-283501586817')\"\n",
              "            title=\"Suggest charts.\"\n",
              "            style=\"display:none;\">\n",
              "\n",
              "<svg xmlns=\"http://www.w3.org/2000/svg\" height=\"24px\"viewBox=\"0 0 24 24\"\n",
              "     width=\"24px\">\n",
              "    <g>\n",
              "        <path d=\"M19 3H5c-1.1 0-2 .9-2 2v14c0 1.1.9 2 2 2h14c1.1 0 2-.9 2-2V5c0-1.1-.9-2-2-2zM9 17H7v-7h2v7zm4 0h-2V7h2v10zm4 0h-2v-4h2v4z\"/>\n",
              "    </g>\n",
              "</svg>\n",
              "  </button>\n",
              "\n",
              "<style>\n",
              "  .colab-df-quickchart {\n",
              "      --bg-color: #E8F0FE;\n",
              "      --fill-color: #1967D2;\n",
              "      --hover-bg-color: #E2EBFA;\n",
              "      --hover-fill-color: #174EA6;\n",
              "      --disabled-fill-color: #AAA;\n",
              "      --disabled-bg-color: #DDD;\n",
              "  }\n",
              "\n",
              "  [theme=dark] .colab-df-quickchart {\n",
              "      --bg-color: #3B4455;\n",
              "      --fill-color: #D2E3FC;\n",
              "      --hover-bg-color: #434B5C;\n",
              "      --hover-fill-color: #FFFFFF;\n",
              "      --disabled-bg-color: #3B4455;\n",
              "      --disabled-fill-color: #666;\n",
              "  }\n",
              "\n",
              "  .colab-df-quickchart {\n",
              "    background-color: var(--bg-color);\n",
              "    border: none;\n",
              "    border-radius: 50%;\n",
              "    cursor: pointer;\n",
              "    display: none;\n",
              "    fill: var(--fill-color);\n",
              "    height: 32px;\n",
              "    padding: 0;\n",
              "    width: 32px;\n",
              "  }\n",
              "\n",
              "  .colab-df-quickchart:hover {\n",
              "    background-color: var(--hover-bg-color);\n",
              "    box-shadow: 0 1px 2px rgba(60, 64, 67, 0.3), 0 1px 3px 1px rgba(60, 64, 67, 0.15);\n",
              "    fill: var(--button-hover-fill-color);\n",
              "  }\n",
              "\n",
              "  .colab-df-quickchart-complete:disabled,\n",
              "  .colab-df-quickchart-complete:disabled:hover {\n",
              "    background-color: var(--disabled-bg-color);\n",
              "    fill: var(--disabled-fill-color);\n",
              "    box-shadow: none;\n",
              "  }\n",
              "\n",
              "  .colab-df-spinner {\n",
              "    border: 2px solid var(--fill-color);\n",
              "    border-color: transparent;\n",
              "    border-bottom-color: var(--fill-color);\n",
              "    animation:\n",
              "      spin 1s steps(1) infinite;\n",
              "  }\n",
              "\n",
              "  @keyframes spin {\n",
              "    0% {\n",
              "      border-color: transparent;\n",
              "      border-bottom-color: var(--fill-color);\n",
              "      border-left-color: var(--fill-color);\n",
              "    }\n",
              "    20% {\n",
              "      border-color: transparent;\n",
              "      border-left-color: var(--fill-color);\n",
              "      border-top-color: var(--fill-color);\n",
              "    }\n",
              "    30% {\n",
              "      border-color: transparent;\n",
              "      border-left-color: var(--fill-color);\n",
              "      border-top-color: var(--fill-color);\n",
              "      border-right-color: var(--fill-color);\n",
              "    }\n",
              "    40% {\n",
              "      border-color: transparent;\n",
              "      border-right-color: var(--fill-color);\n",
              "      border-top-color: var(--fill-color);\n",
              "    }\n",
              "    60% {\n",
              "      border-color: transparent;\n",
              "      border-right-color: var(--fill-color);\n",
              "    }\n",
              "    80% {\n",
              "      border-color: transparent;\n",
              "      border-right-color: var(--fill-color);\n",
              "      border-bottom-color: var(--fill-color);\n",
              "    }\n",
              "    90% {\n",
              "      border-color: transparent;\n",
              "      border-bottom-color: var(--fill-color);\n",
              "    }\n",
              "  }\n",
              "</style>\n",
              "\n",
              "  <script>\n",
              "    async function quickchart(key) {\n",
              "      const quickchartButtonEl =\n",
              "        document.querySelector('#' + key + ' button');\n",
              "      quickchartButtonEl.disabled = true;  // To prevent multiple clicks.\n",
              "      quickchartButtonEl.classList.add('colab-df-spinner');\n",
              "      try {\n",
              "        const charts = await google.colab.kernel.invokeFunction(\n",
              "            'suggestCharts', [key], {});\n",
              "      } catch (error) {\n",
              "        console.error('Error during call to suggestCharts:', error);\n",
              "      }\n",
              "      quickchartButtonEl.classList.remove('colab-df-spinner');\n",
              "      quickchartButtonEl.classList.add('colab-df-quickchart-complete');\n",
              "    }\n",
              "    (() => {\n",
              "      let quickchartButtonEl =\n",
              "        document.querySelector('#df-dd6c6acb-0d2c-496f-825c-283501586817 button');\n",
              "      quickchartButtonEl.style.display =\n",
              "        google.colab.kernel.accessAllowed ? 'block' : 'none';\n",
              "    })();\n",
              "  </script>\n",
              "</div>\n",
              "    </div>\n",
              "  </div>\n"
            ]
          },
          "metadata": {},
          "execution_count": 2013
        }
      ]
    },
    {
      "cell_type": "markdown",
      "source": [
        "# Кодирование категориальных признаков"
      ],
      "metadata": {
        "id": "94oNWM5cndb0"
      }
    },
    {
      "cell_type": "markdown",
      "source": [
        "До кодирования"
      ],
      "metadata": {
        "id": "7387KqyTpv07"
      }
    },
    {
      "cell_type": "code",
      "source": [
        "X"
      ],
      "metadata": {
        "colab": {
          "base_uri": "https://localhost:8080/",
          "height": 411
        },
        "id": "idt0FP20pygQ",
        "outputId": "6cfe9e52-5786-491b-cce2-683cb7aa9950"
      },
      "execution_count": 2014,
      "outputs": [
        {
          "output_type": "execute_result",
          "data": {
            "text/plain": [
              "     gill-color stalk-surface-above-ring population habitat\n",
              "0             k                        s          s       u\n",
              "1             k                        s          n       g\n",
              "2             n                        s          n       m\n",
              "3             n                        s          s       u\n",
              "4             k                        s          a       g\n",
              "...         ...                      ...        ...     ...\n",
              "8119          y                        s          c       l\n",
              "8120          y                        s          v       l\n",
              "8121          n                        s          c       l\n",
              "8122          b                        s          v       l\n",
              "8123          y                        s          c       l\n",
              "\n",
              "[8124 rows x 4 columns]"
            ],
            "text/html": [
              "\n",
              "  <div id=\"df-4f96b934-8eac-448d-96aa-a8a02f9d53c7\" class=\"colab-df-container\">\n",
              "    <div>\n",
              "<style scoped>\n",
              "    .dataframe tbody tr th:only-of-type {\n",
              "        vertical-align: middle;\n",
              "    }\n",
              "\n",
              "    .dataframe tbody tr th {\n",
              "        vertical-align: top;\n",
              "    }\n",
              "\n",
              "    .dataframe thead th {\n",
              "        text-align: right;\n",
              "    }\n",
              "</style>\n",
              "<table border=\"1\" class=\"dataframe\">\n",
              "  <thead>\n",
              "    <tr style=\"text-align: right;\">\n",
              "      <th></th>\n",
              "      <th>gill-color</th>\n",
              "      <th>stalk-surface-above-ring</th>\n",
              "      <th>population</th>\n",
              "      <th>habitat</th>\n",
              "    </tr>\n",
              "  </thead>\n",
              "  <tbody>\n",
              "    <tr>\n",
              "      <th>0</th>\n",
              "      <td>k</td>\n",
              "      <td>s</td>\n",
              "      <td>s</td>\n",
              "      <td>u</td>\n",
              "    </tr>\n",
              "    <tr>\n",
              "      <th>1</th>\n",
              "      <td>k</td>\n",
              "      <td>s</td>\n",
              "      <td>n</td>\n",
              "      <td>g</td>\n",
              "    </tr>\n",
              "    <tr>\n",
              "      <th>2</th>\n",
              "      <td>n</td>\n",
              "      <td>s</td>\n",
              "      <td>n</td>\n",
              "      <td>m</td>\n",
              "    </tr>\n",
              "    <tr>\n",
              "      <th>3</th>\n",
              "      <td>n</td>\n",
              "      <td>s</td>\n",
              "      <td>s</td>\n",
              "      <td>u</td>\n",
              "    </tr>\n",
              "    <tr>\n",
              "      <th>4</th>\n",
              "      <td>k</td>\n",
              "      <td>s</td>\n",
              "      <td>a</td>\n",
              "      <td>g</td>\n",
              "    </tr>\n",
              "    <tr>\n",
              "      <th>...</th>\n",
              "      <td>...</td>\n",
              "      <td>...</td>\n",
              "      <td>...</td>\n",
              "      <td>...</td>\n",
              "    </tr>\n",
              "    <tr>\n",
              "      <th>8119</th>\n",
              "      <td>y</td>\n",
              "      <td>s</td>\n",
              "      <td>c</td>\n",
              "      <td>l</td>\n",
              "    </tr>\n",
              "    <tr>\n",
              "      <th>8120</th>\n",
              "      <td>y</td>\n",
              "      <td>s</td>\n",
              "      <td>v</td>\n",
              "      <td>l</td>\n",
              "    </tr>\n",
              "    <tr>\n",
              "      <th>8121</th>\n",
              "      <td>n</td>\n",
              "      <td>s</td>\n",
              "      <td>c</td>\n",
              "      <td>l</td>\n",
              "    </tr>\n",
              "    <tr>\n",
              "      <th>8122</th>\n",
              "      <td>b</td>\n",
              "      <td>s</td>\n",
              "      <td>v</td>\n",
              "      <td>l</td>\n",
              "    </tr>\n",
              "    <tr>\n",
              "      <th>8123</th>\n",
              "      <td>y</td>\n",
              "      <td>s</td>\n",
              "      <td>c</td>\n",
              "      <td>l</td>\n",
              "    </tr>\n",
              "  </tbody>\n",
              "</table>\n",
              "<p>8124 rows × 4 columns</p>\n",
              "</div>\n",
              "    <div class=\"colab-df-buttons\">\n",
              "\n",
              "  <div class=\"colab-df-container\">\n",
              "    <button class=\"colab-df-convert\" onclick=\"convertToInteractive('df-4f96b934-8eac-448d-96aa-a8a02f9d53c7')\"\n",
              "            title=\"Convert this dataframe to an interactive table.\"\n",
              "            style=\"display:none;\">\n",
              "\n",
              "  <svg xmlns=\"http://www.w3.org/2000/svg\" height=\"24px\" viewBox=\"0 -960 960 960\">\n",
              "    <path d=\"M120-120v-720h720v720H120Zm60-500h600v-160H180v160Zm220 220h160v-160H400v160Zm0 220h160v-160H400v160ZM180-400h160v-160H180v160Zm440 0h160v-160H620v160ZM180-180h160v-160H180v160Zm440 0h160v-160H620v160Z\"/>\n",
              "  </svg>\n",
              "    </button>\n",
              "\n",
              "  <style>\n",
              "    .colab-df-container {\n",
              "      display:flex;\n",
              "      gap: 12px;\n",
              "    }\n",
              "\n",
              "    .colab-df-convert {\n",
              "      background-color: #E8F0FE;\n",
              "      border: none;\n",
              "      border-radius: 50%;\n",
              "      cursor: pointer;\n",
              "      display: none;\n",
              "      fill: #1967D2;\n",
              "      height: 32px;\n",
              "      padding: 0 0 0 0;\n",
              "      width: 32px;\n",
              "    }\n",
              "\n",
              "    .colab-df-convert:hover {\n",
              "      background-color: #E2EBFA;\n",
              "      box-shadow: 0px 1px 2px rgba(60, 64, 67, 0.3), 0px 1px 3px 1px rgba(60, 64, 67, 0.15);\n",
              "      fill: #174EA6;\n",
              "    }\n",
              "\n",
              "    .colab-df-buttons div {\n",
              "      margin-bottom: 4px;\n",
              "    }\n",
              "\n",
              "    [theme=dark] .colab-df-convert {\n",
              "      background-color: #3B4455;\n",
              "      fill: #D2E3FC;\n",
              "    }\n",
              "\n",
              "    [theme=dark] .colab-df-convert:hover {\n",
              "      background-color: #434B5C;\n",
              "      box-shadow: 0px 1px 3px 1px rgba(0, 0, 0, 0.15);\n",
              "      filter: drop-shadow(0px 1px 2px rgba(0, 0, 0, 0.3));\n",
              "      fill: #FFFFFF;\n",
              "    }\n",
              "  </style>\n",
              "\n",
              "    <script>\n",
              "      const buttonEl =\n",
              "        document.querySelector('#df-4f96b934-8eac-448d-96aa-a8a02f9d53c7 button.colab-df-convert');\n",
              "      buttonEl.style.display =\n",
              "        google.colab.kernel.accessAllowed ? 'block' : 'none';\n",
              "\n",
              "      async function convertToInteractive(key) {\n",
              "        const element = document.querySelector('#df-4f96b934-8eac-448d-96aa-a8a02f9d53c7');\n",
              "        const dataTable =\n",
              "          await google.colab.kernel.invokeFunction('convertToInteractive',\n",
              "                                                    [key], {});\n",
              "        if (!dataTable) return;\n",
              "\n",
              "        const docLinkHtml = 'Like what you see? Visit the ' +\n",
              "          '<a target=\"_blank\" href=https://colab.research.google.com/notebooks/data_table.ipynb>data table notebook</a>'\n",
              "          + ' to learn more about interactive tables.';\n",
              "        element.innerHTML = '';\n",
              "        dataTable['output_type'] = 'display_data';\n",
              "        await google.colab.output.renderOutput(dataTable, element);\n",
              "        const docLink = document.createElement('div');\n",
              "        docLink.innerHTML = docLinkHtml;\n",
              "        element.appendChild(docLink);\n",
              "      }\n",
              "    </script>\n",
              "  </div>\n",
              "\n",
              "\n",
              "<div id=\"df-40006b96-d72f-420d-801c-2782dafd3ff2\">\n",
              "  <button class=\"colab-df-quickchart\" onclick=\"quickchart('df-40006b96-d72f-420d-801c-2782dafd3ff2')\"\n",
              "            title=\"Suggest charts.\"\n",
              "            style=\"display:none;\">\n",
              "\n",
              "<svg xmlns=\"http://www.w3.org/2000/svg\" height=\"24px\"viewBox=\"0 0 24 24\"\n",
              "     width=\"24px\">\n",
              "    <g>\n",
              "        <path d=\"M19 3H5c-1.1 0-2 .9-2 2v14c0 1.1.9 2 2 2h14c1.1 0 2-.9 2-2V5c0-1.1-.9-2-2-2zM9 17H7v-7h2v7zm4 0h-2V7h2v10zm4 0h-2v-4h2v4z\"/>\n",
              "    </g>\n",
              "</svg>\n",
              "  </button>\n",
              "\n",
              "<style>\n",
              "  .colab-df-quickchart {\n",
              "      --bg-color: #E8F0FE;\n",
              "      --fill-color: #1967D2;\n",
              "      --hover-bg-color: #E2EBFA;\n",
              "      --hover-fill-color: #174EA6;\n",
              "      --disabled-fill-color: #AAA;\n",
              "      --disabled-bg-color: #DDD;\n",
              "  }\n",
              "\n",
              "  [theme=dark] .colab-df-quickchart {\n",
              "      --bg-color: #3B4455;\n",
              "      --fill-color: #D2E3FC;\n",
              "      --hover-bg-color: #434B5C;\n",
              "      --hover-fill-color: #FFFFFF;\n",
              "      --disabled-bg-color: #3B4455;\n",
              "      --disabled-fill-color: #666;\n",
              "  }\n",
              "\n",
              "  .colab-df-quickchart {\n",
              "    background-color: var(--bg-color);\n",
              "    border: none;\n",
              "    border-radius: 50%;\n",
              "    cursor: pointer;\n",
              "    display: none;\n",
              "    fill: var(--fill-color);\n",
              "    height: 32px;\n",
              "    padding: 0;\n",
              "    width: 32px;\n",
              "  }\n",
              "\n",
              "  .colab-df-quickchart:hover {\n",
              "    background-color: var(--hover-bg-color);\n",
              "    box-shadow: 0 1px 2px rgba(60, 64, 67, 0.3), 0 1px 3px 1px rgba(60, 64, 67, 0.15);\n",
              "    fill: var(--button-hover-fill-color);\n",
              "  }\n",
              "\n",
              "  .colab-df-quickchart-complete:disabled,\n",
              "  .colab-df-quickchart-complete:disabled:hover {\n",
              "    background-color: var(--disabled-bg-color);\n",
              "    fill: var(--disabled-fill-color);\n",
              "    box-shadow: none;\n",
              "  }\n",
              "\n",
              "  .colab-df-spinner {\n",
              "    border: 2px solid var(--fill-color);\n",
              "    border-color: transparent;\n",
              "    border-bottom-color: var(--fill-color);\n",
              "    animation:\n",
              "      spin 1s steps(1) infinite;\n",
              "  }\n",
              "\n",
              "  @keyframes spin {\n",
              "    0% {\n",
              "      border-color: transparent;\n",
              "      border-bottom-color: var(--fill-color);\n",
              "      border-left-color: var(--fill-color);\n",
              "    }\n",
              "    20% {\n",
              "      border-color: transparent;\n",
              "      border-left-color: var(--fill-color);\n",
              "      border-top-color: var(--fill-color);\n",
              "    }\n",
              "    30% {\n",
              "      border-color: transparent;\n",
              "      border-left-color: var(--fill-color);\n",
              "      border-top-color: var(--fill-color);\n",
              "      border-right-color: var(--fill-color);\n",
              "    }\n",
              "    40% {\n",
              "      border-color: transparent;\n",
              "      border-right-color: var(--fill-color);\n",
              "      border-top-color: var(--fill-color);\n",
              "    }\n",
              "    60% {\n",
              "      border-color: transparent;\n",
              "      border-right-color: var(--fill-color);\n",
              "    }\n",
              "    80% {\n",
              "      border-color: transparent;\n",
              "      border-right-color: var(--fill-color);\n",
              "      border-bottom-color: var(--fill-color);\n",
              "    }\n",
              "    90% {\n",
              "      border-color: transparent;\n",
              "      border-bottom-color: var(--fill-color);\n",
              "    }\n",
              "  }\n",
              "</style>\n",
              "\n",
              "  <script>\n",
              "    async function quickchart(key) {\n",
              "      const quickchartButtonEl =\n",
              "        document.querySelector('#' + key + ' button');\n",
              "      quickchartButtonEl.disabled = true;  // To prevent multiple clicks.\n",
              "      quickchartButtonEl.classList.add('colab-df-spinner');\n",
              "      try {\n",
              "        const charts = await google.colab.kernel.invokeFunction(\n",
              "            'suggestCharts', [key], {});\n",
              "      } catch (error) {\n",
              "        console.error('Error during call to suggestCharts:', error);\n",
              "      }\n",
              "      quickchartButtonEl.classList.remove('colab-df-spinner');\n",
              "      quickchartButtonEl.classList.add('colab-df-quickchart-complete');\n",
              "    }\n",
              "    (() => {\n",
              "      let quickchartButtonEl =\n",
              "        document.querySelector('#df-40006b96-d72f-420d-801c-2782dafd3ff2 button');\n",
              "      quickchartButtonEl.style.display =\n",
              "        google.colab.kernel.accessAllowed ? 'block' : 'none';\n",
              "    })();\n",
              "  </script>\n",
              "</div>\n",
              "    </div>\n",
              "  </div>\n"
            ]
          },
          "metadata": {},
          "execution_count": 2014
        }
      ]
    },
    {
      "cell_type": "code",
      "source": [
        "Y"
      ],
      "metadata": {
        "colab": {
          "base_uri": "https://localhost:8080/",
          "height": 411
        },
        "id": "vPoOOBuUpzMO",
        "outputId": "f4a15e97-d24d-466a-c905-8db33a25e4d9"
      },
      "execution_count": 2015,
      "outputs": [
        {
          "output_type": "execute_result",
          "data": {
            "text/plain": [
              "     poisonous\n",
              "0            p\n",
              "1            e\n",
              "2            e\n",
              "3            p\n",
              "4            e\n",
              "...        ...\n",
              "8119         e\n",
              "8120         e\n",
              "8121         e\n",
              "8122         p\n",
              "8123         e\n",
              "\n",
              "[8124 rows x 1 columns]"
            ],
            "text/html": [
              "\n",
              "  <div id=\"df-afde82cc-dfef-4108-9a4f-af98f88bfe8e\" class=\"colab-df-container\">\n",
              "    <div>\n",
              "<style scoped>\n",
              "    .dataframe tbody tr th:only-of-type {\n",
              "        vertical-align: middle;\n",
              "    }\n",
              "\n",
              "    .dataframe tbody tr th {\n",
              "        vertical-align: top;\n",
              "    }\n",
              "\n",
              "    .dataframe thead th {\n",
              "        text-align: right;\n",
              "    }\n",
              "</style>\n",
              "<table border=\"1\" class=\"dataframe\">\n",
              "  <thead>\n",
              "    <tr style=\"text-align: right;\">\n",
              "      <th></th>\n",
              "      <th>poisonous</th>\n",
              "    </tr>\n",
              "  </thead>\n",
              "  <tbody>\n",
              "    <tr>\n",
              "      <th>0</th>\n",
              "      <td>p</td>\n",
              "    </tr>\n",
              "    <tr>\n",
              "      <th>1</th>\n",
              "      <td>e</td>\n",
              "    </tr>\n",
              "    <tr>\n",
              "      <th>2</th>\n",
              "      <td>e</td>\n",
              "    </tr>\n",
              "    <tr>\n",
              "      <th>3</th>\n",
              "      <td>p</td>\n",
              "    </tr>\n",
              "    <tr>\n",
              "      <th>4</th>\n",
              "      <td>e</td>\n",
              "    </tr>\n",
              "    <tr>\n",
              "      <th>...</th>\n",
              "      <td>...</td>\n",
              "    </tr>\n",
              "    <tr>\n",
              "      <th>8119</th>\n",
              "      <td>e</td>\n",
              "    </tr>\n",
              "    <tr>\n",
              "      <th>8120</th>\n",
              "      <td>e</td>\n",
              "    </tr>\n",
              "    <tr>\n",
              "      <th>8121</th>\n",
              "      <td>e</td>\n",
              "    </tr>\n",
              "    <tr>\n",
              "      <th>8122</th>\n",
              "      <td>p</td>\n",
              "    </tr>\n",
              "    <tr>\n",
              "      <th>8123</th>\n",
              "      <td>e</td>\n",
              "    </tr>\n",
              "  </tbody>\n",
              "</table>\n",
              "<p>8124 rows × 1 columns</p>\n",
              "</div>\n",
              "    <div class=\"colab-df-buttons\">\n",
              "\n",
              "  <div class=\"colab-df-container\">\n",
              "    <button class=\"colab-df-convert\" onclick=\"convertToInteractive('df-afde82cc-dfef-4108-9a4f-af98f88bfe8e')\"\n",
              "            title=\"Convert this dataframe to an interactive table.\"\n",
              "            style=\"display:none;\">\n",
              "\n",
              "  <svg xmlns=\"http://www.w3.org/2000/svg\" height=\"24px\" viewBox=\"0 -960 960 960\">\n",
              "    <path d=\"M120-120v-720h720v720H120Zm60-500h600v-160H180v160Zm220 220h160v-160H400v160Zm0 220h160v-160H400v160ZM180-400h160v-160H180v160Zm440 0h160v-160H620v160ZM180-180h160v-160H180v160Zm440 0h160v-160H620v160Z\"/>\n",
              "  </svg>\n",
              "    </button>\n",
              "\n",
              "  <style>\n",
              "    .colab-df-container {\n",
              "      display:flex;\n",
              "      gap: 12px;\n",
              "    }\n",
              "\n",
              "    .colab-df-convert {\n",
              "      background-color: #E8F0FE;\n",
              "      border: none;\n",
              "      border-radius: 50%;\n",
              "      cursor: pointer;\n",
              "      display: none;\n",
              "      fill: #1967D2;\n",
              "      height: 32px;\n",
              "      padding: 0 0 0 0;\n",
              "      width: 32px;\n",
              "    }\n",
              "\n",
              "    .colab-df-convert:hover {\n",
              "      background-color: #E2EBFA;\n",
              "      box-shadow: 0px 1px 2px rgba(60, 64, 67, 0.3), 0px 1px 3px 1px rgba(60, 64, 67, 0.15);\n",
              "      fill: #174EA6;\n",
              "    }\n",
              "\n",
              "    .colab-df-buttons div {\n",
              "      margin-bottom: 4px;\n",
              "    }\n",
              "\n",
              "    [theme=dark] .colab-df-convert {\n",
              "      background-color: #3B4455;\n",
              "      fill: #D2E3FC;\n",
              "    }\n",
              "\n",
              "    [theme=dark] .colab-df-convert:hover {\n",
              "      background-color: #434B5C;\n",
              "      box-shadow: 0px 1px 3px 1px rgba(0, 0, 0, 0.15);\n",
              "      filter: drop-shadow(0px 1px 2px rgba(0, 0, 0, 0.3));\n",
              "      fill: #FFFFFF;\n",
              "    }\n",
              "  </style>\n",
              "\n",
              "    <script>\n",
              "      const buttonEl =\n",
              "        document.querySelector('#df-afde82cc-dfef-4108-9a4f-af98f88bfe8e button.colab-df-convert');\n",
              "      buttonEl.style.display =\n",
              "        google.colab.kernel.accessAllowed ? 'block' : 'none';\n",
              "\n",
              "      async function convertToInteractive(key) {\n",
              "        const element = document.querySelector('#df-afde82cc-dfef-4108-9a4f-af98f88bfe8e');\n",
              "        const dataTable =\n",
              "          await google.colab.kernel.invokeFunction('convertToInteractive',\n",
              "                                                    [key], {});\n",
              "        if (!dataTable) return;\n",
              "\n",
              "        const docLinkHtml = 'Like what you see? Visit the ' +\n",
              "          '<a target=\"_blank\" href=https://colab.research.google.com/notebooks/data_table.ipynb>data table notebook</a>'\n",
              "          + ' to learn more about interactive tables.';\n",
              "        element.innerHTML = '';\n",
              "        dataTable['output_type'] = 'display_data';\n",
              "        await google.colab.output.renderOutput(dataTable, element);\n",
              "        const docLink = document.createElement('div');\n",
              "        docLink.innerHTML = docLinkHtml;\n",
              "        element.appendChild(docLink);\n",
              "      }\n",
              "    </script>\n",
              "  </div>\n",
              "\n",
              "\n",
              "<div id=\"df-c154541a-fe15-4d18-9647-c84957970185\">\n",
              "  <button class=\"colab-df-quickchart\" onclick=\"quickchart('df-c154541a-fe15-4d18-9647-c84957970185')\"\n",
              "            title=\"Suggest charts.\"\n",
              "            style=\"display:none;\">\n",
              "\n",
              "<svg xmlns=\"http://www.w3.org/2000/svg\" height=\"24px\"viewBox=\"0 0 24 24\"\n",
              "     width=\"24px\">\n",
              "    <g>\n",
              "        <path d=\"M19 3H5c-1.1 0-2 .9-2 2v14c0 1.1.9 2 2 2h14c1.1 0 2-.9 2-2V5c0-1.1-.9-2-2-2zM9 17H7v-7h2v7zm4 0h-2V7h2v10zm4 0h-2v-4h2v4z\"/>\n",
              "    </g>\n",
              "</svg>\n",
              "  </button>\n",
              "\n",
              "<style>\n",
              "  .colab-df-quickchart {\n",
              "      --bg-color: #E8F0FE;\n",
              "      --fill-color: #1967D2;\n",
              "      --hover-bg-color: #E2EBFA;\n",
              "      --hover-fill-color: #174EA6;\n",
              "      --disabled-fill-color: #AAA;\n",
              "      --disabled-bg-color: #DDD;\n",
              "  }\n",
              "\n",
              "  [theme=dark] .colab-df-quickchart {\n",
              "      --bg-color: #3B4455;\n",
              "      --fill-color: #D2E3FC;\n",
              "      --hover-bg-color: #434B5C;\n",
              "      --hover-fill-color: #FFFFFF;\n",
              "      --disabled-bg-color: #3B4455;\n",
              "      --disabled-fill-color: #666;\n",
              "  }\n",
              "\n",
              "  .colab-df-quickchart {\n",
              "    background-color: var(--bg-color);\n",
              "    border: none;\n",
              "    border-radius: 50%;\n",
              "    cursor: pointer;\n",
              "    display: none;\n",
              "    fill: var(--fill-color);\n",
              "    height: 32px;\n",
              "    padding: 0;\n",
              "    width: 32px;\n",
              "  }\n",
              "\n",
              "  .colab-df-quickchart:hover {\n",
              "    background-color: var(--hover-bg-color);\n",
              "    box-shadow: 0 1px 2px rgba(60, 64, 67, 0.3), 0 1px 3px 1px rgba(60, 64, 67, 0.15);\n",
              "    fill: var(--button-hover-fill-color);\n",
              "  }\n",
              "\n",
              "  .colab-df-quickchart-complete:disabled,\n",
              "  .colab-df-quickchart-complete:disabled:hover {\n",
              "    background-color: var(--disabled-bg-color);\n",
              "    fill: var(--disabled-fill-color);\n",
              "    box-shadow: none;\n",
              "  }\n",
              "\n",
              "  .colab-df-spinner {\n",
              "    border: 2px solid var(--fill-color);\n",
              "    border-color: transparent;\n",
              "    border-bottom-color: var(--fill-color);\n",
              "    animation:\n",
              "      spin 1s steps(1) infinite;\n",
              "  }\n",
              "\n",
              "  @keyframes spin {\n",
              "    0% {\n",
              "      border-color: transparent;\n",
              "      border-bottom-color: var(--fill-color);\n",
              "      border-left-color: var(--fill-color);\n",
              "    }\n",
              "    20% {\n",
              "      border-color: transparent;\n",
              "      border-left-color: var(--fill-color);\n",
              "      border-top-color: var(--fill-color);\n",
              "    }\n",
              "    30% {\n",
              "      border-color: transparent;\n",
              "      border-left-color: var(--fill-color);\n",
              "      border-top-color: var(--fill-color);\n",
              "      border-right-color: var(--fill-color);\n",
              "    }\n",
              "    40% {\n",
              "      border-color: transparent;\n",
              "      border-right-color: var(--fill-color);\n",
              "      border-top-color: var(--fill-color);\n",
              "    }\n",
              "    60% {\n",
              "      border-color: transparent;\n",
              "      border-right-color: var(--fill-color);\n",
              "    }\n",
              "    80% {\n",
              "      border-color: transparent;\n",
              "      border-right-color: var(--fill-color);\n",
              "      border-bottom-color: var(--fill-color);\n",
              "    }\n",
              "    90% {\n",
              "      border-color: transparent;\n",
              "      border-bottom-color: var(--fill-color);\n",
              "    }\n",
              "  }\n",
              "</style>\n",
              "\n",
              "  <script>\n",
              "    async function quickchart(key) {\n",
              "      const quickchartButtonEl =\n",
              "        document.querySelector('#' + key + ' button');\n",
              "      quickchartButtonEl.disabled = true;  // To prevent multiple clicks.\n",
              "      quickchartButtonEl.classList.add('colab-df-spinner');\n",
              "      try {\n",
              "        const charts = await google.colab.kernel.invokeFunction(\n",
              "            'suggestCharts', [key], {});\n",
              "      } catch (error) {\n",
              "        console.error('Error during call to suggestCharts:', error);\n",
              "      }\n",
              "      quickchartButtonEl.classList.remove('colab-df-spinner');\n",
              "      quickchartButtonEl.classList.add('colab-df-quickchart-complete');\n",
              "    }\n",
              "    (() => {\n",
              "      let quickchartButtonEl =\n",
              "        document.querySelector('#df-c154541a-fe15-4d18-9647-c84957970185 button');\n",
              "      quickchartButtonEl.style.display =\n",
              "        google.colab.kernel.accessAllowed ? 'block' : 'none';\n",
              "    })();\n",
              "  </script>\n",
              "</div>\n",
              "    </div>\n",
              "  </div>\n"
            ]
          },
          "metadata": {},
          "execution_count": 2015
        }
      ]
    },
    {
      "cell_type": "code",
      "source": [
        "columns = X.columns.values\n",
        "\n",
        "X = data[columns].apply(lambda col: col.astype('category').cat.codes)\n",
        "Y = data['poisonous'].astype('category').cat.codes"
      ],
      "metadata": {
        "id": "SKCD6cfSnd99"
      },
      "execution_count": 2016,
      "outputs": []
    },
    {
      "cell_type": "markdown",
      "source": [
        "После кодирования"
      ],
      "metadata": {
        "id": "R9fAPJG6ov8J"
      }
    },
    {
      "cell_type": "code",
      "source": [
        "X"
      ],
      "metadata": {
        "colab": {
          "base_uri": "https://localhost:8080/",
          "height": 411
        },
        "id": "0TfKi3lDnz0C",
        "outputId": "4c4d07e5-297e-4152-8aea-934fa7936ac8"
      },
      "execution_count": 2017,
      "outputs": [
        {
          "output_type": "execute_result",
          "data": {
            "text/plain": [
              "      gill-color  stalk-surface-above-ring  population  habitat\n",
              "0              4                         2           3        5\n",
              "1              4                         2           2        1\n",
              "2              5                         2           2        3\n",
              "3              5                         2           3        5\n",
              "4              4                         2           0        1\n",
              "...          ...                       ...         ...      ...\n",
              "8119          11                         2           1        2\n",
              "8120          11                         2           4        2\n",
              "8121           5                         2           1        2\n",
              "8122           0                         2           4        2\n",
              "8123          11                         2           1        2\n",
              "\n",
              "[8124 rows x 4 columns]"
            ],
            "text/html": [
              "\n",
              "  <div id=\"df-e87591ac-45b8-440a-8440-ee84846e358f\" class=\"colab-df-container\">\n",
              "    <div>\n",
              "<style scoped>\n",
              "    .dataframe tbody tr th:only-of-type {\n",
              "        vertical-align: middle;\n",
              "    }\n",
              "\n",
              "    .dataframe tbody tr th {\n",
              "        vertical-align: top;\n",
              "    }\n",
              "\n",
              "    .dataframe thead th {\n",
              "        text-align: right;\n",
              "    }\n",
              "</style>\n",
              "<table border=\"1\" class=\"dataframe\">\n",
              "  <thead>\n",
              "    <tr style=\"text-align: right;\">\n",
              "      <th></th>\n",
              "      <th>gill-color</th>\n",
              "      <th>stalk-surface-above-ring</th>\n",
              "      <th>population</th>\n",
              "      <th>habitat</th>\n",
              "    </tr>\n",
              "  </thead>\n",
              "  <tbody>\n",
              "    <tr>\n",
              "      <th>0</th>\n",
              "      <td>4</td>\n",
              "      <td>2</td>\n",
              "      <td>3</td>\n",
              "      <td>5</td>\n",
              "    </tr>\n",
              "    <tr>\n",
              "      <th>1</th>\n",
              "      <td>4</td>\n",
              "      <td>2</td>\n",
              "      <td>2</td>\n",
              "      <td>1</td>\n",
              "    </tr>\n",
              "    <tr>\n",
              "      <th>2</th>\n",
              "      <td>5</td>\n",
              "      <td>2</td>\n",
              "      <td>2</td>\n",
              "      <td>3</td>\n",
              "    </tr>\n",
              "    <tr>\n",
              "      <th>3</th>\n",
              "      <td>5</td>\n",
              "      <td>2</td>\n",
              "      <td>3</td>\n",
              "      <td>5</td>\n",
              "    </tr>\n",
              "    <tr>\n",
              "      <th>4</th>\n",
              "      <td>4</td>\n",
              "      <td>2</td>\n",
              "      <td>0</td>\n",
              "      <td>1</td>\n",
              "    </tr>\n",
              "    <tr>\n",
              "      <th>...</th>\n",
              "      <td>...</td>\n",
              "      <td>...</td>\n",
              "      <td>...</td>\n",
              "      <td>...</td>\n",
              "    </tr>\n",
              "    <tr>\n",
              "      <th>8119</th>\n",
              "      <td>11</td>\n",
              "      <td>2</td>\n",
              "      <td>1</td>\n",
              "      <td>2</td>\n",
              "    </tr>\n",
              "    <tr>\n",
              "      <th>8120</th>\n",
              "      <td>11</td>\n",
              "      <td>2</td>\n",
              "      <td>4</td>\n",
              "      <td>2</td>\n",
              "    </tr>\n",
              "    <tr>\n",
              "      <th>8121</th>\n",
              "      <td>5</td>\n",
              "      <td>2</td>\n",
              "      <td>1</td>\n",
              "      <td>2</td>\n",
              "    </tr>\n",
              "    <tr>\n",
              "      <th>8122</th>\n",
              "      <td>0</td>\n",
              "      <td>2</td>\n",
              "      <td>4</td>\n",
              "      <td>2</td>\n",
              "    </tr>\n",
              "    <tr>\n",
              "      <th>8123</th>\n",
              "      <td>11</td>\n",
              "      <td>2</td>\n",
              "      <td>1</td>\n",
              "      <td>2</td>\n",
              "    </tr>\n",
              "  </tbody>\n",
              "</table>\n",
              "<p>8124 rows × 4 columns</p>\n",
              "</div>\n",
              "    <div class=\"colab-df-buttons\">\n",
              "\n",
              "  <div class=\"colab-df-container\">\n",
              "    <button class=\"colab-df-convert\" onclick=\"convertToInteractive('df-e87591ac-45b8-440a-8440-ee84846e358f')\"\n",
              "            title=\"Convert this dataframe to an interactive table.\"\n",
              "            style=\"display:none;\">\n",
              "\n",
              "  <svg xmlns=\"http://www.w3.org/2000/svg\" height=\"24px\" viewBox=\"0 -960 960 960\">\n",
              "    <path d=\"M120-120v-720h720v720H120Zm60-500h600v-160H180v160Zm220 220h160v-160H400v160Zm0 220h160v-160H400v160ZM180-400h160v-160H180v160Zm440 0h160v-160H620v160ZM180-180h160v-160H180v160Zm440 0h160v-160H620v160Z\"/>\n",
              "  </svg>\n",
              "    </button>\n",
              "\n",
              "  <style>\n",
              "    .colab-df-container {\n",
              "      display:flex;\n",
              "      gap: 12px;\n",
              "    }\n",
              "\n",
              "    .colab-df-convert {\n",
              "      background-color: #E8F0FE;\n",
              "      border: none;\n",
              "      border-radius: 50%;\n",
              "      cursor: pointer;\n",
              "      display: none;\n",
              "      fill: #1967D2;\n",
              "      height: 32px;\n",
              "      padding: 0 0 0 0;\n",
              "      width: 32px;\n",
              "    }\n",
              "\n",
              "    .colab-df-convert:hover {\n",
              "      background-color: #E2EBFA;\n",
              "      box-shadow: 0px 1px 2px rgba(60, 64, 67, 0.3), 0px 1px 3px 1px rgba(60, 64, 67, 0.15);\n",
              "      fill: #174EA6;\n",
              "    }\n",
              "\n",
              "    .colab-df-buttons div {\n",
              "      margin-bottom: 4px;\n",
              "    }\n",
              "\n",
              "    [theme=dark] .colab-df-convert {\n",
              "      background-color: #3B4455;\n",
              "      fill: #D2E3FC;\n",
              "    }\n",
              "\n",
              "    [theme=dark] .colab-df-convert:hover {\n",
              "      background-color: #434B5C;\n",
              "      box-shadow: 0px 1px 3px 1px rgba(0, 0, 0, 0.15);\n",
              "      filter: drop-shadow(0px 1px 2px rgba(0, 0, 0, 0.3));\n",
              "      fill: #FFFFFF;\n",
              "    }\n",
              "  </style>\n",
              "\n",
              "    <script>\n",
              "      const buttonEl =\n",
              "        document.querySelector('#df-e87591ac-45b8-440a-8440-ee84846e358f button.colab-df-convert');\n",
              "      buttonEl.style.display =\n",
              "        google.colab.kernel.accessAllowed ? 'block' : 'none';\n",
              "\n",
              "      async function convertToInteractive(key) {\n",
              "        const element = document.querySelector('#df-e87591ac-45b8-440a-8440-ee84846e358f');\n",
              "        const dataTable =\n",
              "          await google.colab.kernel.invokeFunction('convertToInteractive',\n",
              "                                                    [key], {});\n",
              "        if (!dataTable) return;\n",
              "\n",
              "        const docLinkHtml = 'Like what you see? Visit the ' +\n",
              "          '<a target=\"_blank\" href=https://colab.research.google.com/notebooks/data_table.ipynb>data table notebook</a>'\n",
              "          + ' to learn more about interactive tables.';\n",
              "        element.innerHTML = '';\n",
              "        dataTable['output_type'] = 'display_data';\n",
              "        await google.colab.output.renderOutput(dataTable, element);\n",
              "        const docLink = document.createElement('div');\n",
              "        docLink.innerHTML = docLinkHtml;\n",
              "        element.appendChild(docLink);\n",
              "      }\n",
              "    </script>\n",
              "  </div>\n",
              "\n",
              "\n",
              "<div id=\"df-d4b39dd7-812b-4968-bfff-36be4eeb4ffe\">\n",
              "  <button class=\"colab-df-quickchart\" onclick=\"quickchart('df-d4b39dd7-812b-4968-bfff-36be4eeb4ffe')\"\n",
              "            title=\"Suggest charts.\"\n",
              "            style=\"display:none;\">\n",
              "\n",
              "<svg xmlns=\"http://www.w3.org/2000/svg\" height=\"24px\"viewBox=\"0 0 24 24\"\n",
              "     width=\"24px\">\n",
              "    <g>\n",
              "        <path d=\"M19 3H5c-1.1 0-2 .9-2 2v14c0 1.1.9 2 2 2h14c1.1 0 2-.9 2-2V5c0-1.1-.9-2-2-2zM9 17H7v-7h2v7zm4 0h-2V7h2v10zm4 0h-2v-4h2v4z\"/>\n",
              "    </g>\n",
              "</svg>\n",
              "  </button>\n",
              "\n",
              "<style>\n",
              "  .colab-df-quickchart {\n",
              "      --bg-color: #E8F0FE;\n",
              "      --fill-color: #1967D2;\n",
              "      --hover-bg-color: #E2EBFA;\n",
              "      --hover-fill-color: #174EA6;\n",
              "      --disabled-fill-color: #AAA;\n",
              "      --disabled-bg-color: #DDD;\n",
              "  }\n",
              "\n",
              "  [theme=dark] .colab-df-quickchart {\n",
              "      --bg-color: #3B4455;\n",
              "      --fill-color: #D2E3FC;\n",
              "      --hover-bg-color: #434B5C;\n",
              "      --hover-fill-color: #FFFFFF;\n",
              "      --disabled-bg-color: #3B4455;\n",
              "      --disabled-fill-color: #666;\n",
              "  }\n",
              "\n",
              "  .colab-df-quickchart {\n",
              "    background-color: var(--bg-color);\n",
              "    border: none;\n",
              "    border-radius: 50%;\n",
              "    cursor: pointer;\n",
              "    display: none;\n",
              "    fill: var(--fill-color);\n",
              "    height: 32px;\n",
              "    padding: 0;\n",
              "    width: 32px;\n",
              "  }\n",
              "\n",
              "  .colab-df-quickchart:hover {\n",
              "    background-color: var(--hover-bg-color);\n",
              "    box-shadow: 0 1px 2px rgba(60, 64, 67, 0.3), 0 1px 3px 1px rgba(60, 64, 67, 0.15);\n",
              "    fill: var(--button-hover-fill-color);\n",
              "  }\n",
              "\n",
              "  .colab-df-quickchart-complete:disabled,\n",
              "  .colab-df-quickchart-complete:disabled:hover {\n",
              "    background-color: var(--disabled-bg-color);\n",
              "    fill: var(--disabled-fill-color);\n",
              "    box-shadow: none;\n",
              "  }\n",
              "\n",
              "  .colab-df-spinner {\n",
              "    border: 2px solid var(--fill-color);\n",
              "    border-color: transparent;\n",
              "    border-bottom-color: var(--fill-color);\n",
              "    animation:\n",
              "      spin 1s steps(1) infinite;\n",
              "  }\n",
              "\n",
              "  @keyframes spin {\n",
              "    0% {\n",
              "      border-color: transparent;\n",
              "      border-bottom-color: var(--fill-color);\n",
              "      border-left-color: var(--fill-color);\n",
              "    }\n",
              "    20% {\n",
              "      border-color: transparent;\n",
              "      border-left-color: var(--fill-color);\n",
              "      border-top-color: var(--fill-color);\n",
              "    }\n",
              "    30% {\n",
              "      border-color: transparent;\n",
              "      border-left-color: var(--fill-color);\n",
              "      border-top-color: var(--fill-color);\n",
              "      border-right-color: var(--fill-color);\n",
              "    }\n",
              "    40% {\n",
              "      border-color: transparent;\n",
              "      border-right-color: var(--fill-color);\n",
              "      border-top-color: var(--fill-color);\n",
              "    }\n",
              "    60% {\n",
              "      border-color: transparent;\n",
              "      border-right-color: var(--fill-color);\n",
              "    }\n",
              "    80% {\n",
              "      border-color: transparent;\n",
              "      border-right-color: var(--fill-color);\n",
              "      border-bottom-color: var(--fill-color);\n",
              "    }\n",
              "    90% {\n",
              "      border-color: transparent;\n",
              "      border-bottom-color: var(--fill-color);\n",
              "    }\n",
              "  }\n",
              "</style>\n",
              "\n",
              "  <script>\n",
              "    async function quickchart(key) {\n",
              "      const quickchartButtonEl =\n",
              "        document.querySelector('#' + key + ' button');\n",
              "      quickchartButtonEl.disabled = true;  // To prevent multiple clicks.\n",
              "      quickchartButtonEl.classList.add('colab-df-spinner');\n",
              "      try {\n",
              "        const charts = await google.colab.kernel.invokeFunction(\n",
              "            'suggestCharts', [key], {});\n",
              "      } catch (error) {\n",
              "        console.error('Error during call to suggestCharts:', error);\n",
              "      }\n",
              "      quickchartButtonEl.classList.remove('colab-df-spinner');\n",
              "      quickchartButtonEl.classList.add('colab-df-quickchart-complete');\n",
              "    }\n",
              "    (() => {\n",
              "      let quickchartButtonEl =\n",
              "        document.querySelector('#df-d4b39dd7-812b-4968-bfff-36be4eeb4ffe button');\n",
              "      quickchartButtonEl.style.display =\n",
              "        google.colab.kernel.accessAllowed ? 'block' : 'none';\n",
              "    })();\n",
              "  </script>\n",
              "</div>\n",
              "    </div>\n",
              "  </div>\n"
            ]
          },
          "metadata": {},
          "execution_count": 2017
        }
      ]
    },
    {
      "cell_type": "code",
      "source": [
        "Y"
      ],
      "metadata": {
        "colab": {
          "base_uri": "https://localhost:8080/"
        },
        "id": "yMzLQrP1ouBH",
        "outputId": "f3a2fb77-d2df-4152-ab26-3332b536541f"
      },
      "execution_count": 2018,
      "outputs": [
        {
          "output_type": "execute_result",
          "data": {
            "text/plain": [
              "0       1\n",
              "1       0\n",
              "2       0\n",
              "3       1\n",
              "4       0\n",
              "       ..\n",
              "8119    0\n",
              "8120    0\n",
              "8121    0\n",
              "8122    1\n",
              "8123    0\n",
              "Length: 8124, dtype: int8"
            ]
          },
          "metadata": {},
          "execution_count": 2018
        }
      ]
    },
    {
      "cell_type": "markdown",
      "source": [
        "# Разделение данных на обучающую и тестовую выборки"
      ],
      "metadata": {
        "id": "K-PUntroeIUx"
      }
    },
    {
      "cell_type": "code",
      "source": [
        "# Список индексов данных\n",
        "indices = list(range(len(X)))\n",
        "\n",
        "# Размер тестовой выборки\n",
        "test_size = 0.2 # 20%\n",
        "\n",
        "# Начальное состояние генератора случайных чисел\n",
        "random.seed(42)\n",
        "\n",
        "# Шафлим данные (чтобы потом не балансировать)\n",
        "random.shuffle(indices)\n",
        "\n",
        "split_index = int(len(X) * test_size)\n",
        "\n",
        "X_train = X.iloc[indices[split_index:]]\n",
        "X_test = X.iloc[indices[:split_index]]\n",
        "Y_train = Y.iloc[indices[split_index:]]\n",
        "Y_test = Y.iloc[indices[:split_index]]"
      ],
      "metadata": {
        "id": "S1-nZNxeeTvM"
      },
      "execution_count": 2019,
      "outputs": []
    },
    {
      "cell_type": "markdown",
      "source": [
        "Данные после разделения"
      ],
      "metadata": {
        "id": "NLQ4SOIbepqT"
      }
    },
    {
      "cell_type": "code",
      "source": [
        "print(f'X = {X.shape}\\nX_train = {X_train.shape}\\nX_test = {X_test.shape}\\nY = {Y.shape}\\nY_train = {Y_train.shape}\\nY_test = {Y_test.shape}')"
      ],
      "metadata": {
        "colab": {
          "base_uri": "https://localhost:8080/"
        },
        "id": "soC966NFeaQG",
        "outputId": "1125f736-c3ff-40ea-bb5c-74b7bef5611b"
      },
      "execution_count": 2020,
      "outputs": [
        {
          "output_type": "stream",
          "name": "stdout",
          "text": [
            "X = (8124, 4)\n",
            "X_train = (6500, 4)\n",
            "X_test = (1624, 4)\n",
            "Y = (8124,)\n",
            "Y_train = (6500,)\n",
            "Y_test = (1624,)\n"
          ]
        }
      ]
    },
    {
      "cell_type": "markdown",
      "source": [
        "# Реализация дерева решений"
      ],
      "metadata": {
        "id": "np6DR12xfxf3"
      }
    },
    {
      "cell_type": "markdown",
      "source": [
        "Класс дерева решений"
      ],
      "metadata": {
        "id": "3wIXS2_iN5Tn"
      }
    },
    {
      "cell_type": "code",
      "source": [
        "class TreeNode:\n",
        "\n",
        "    def __init__(self, left = None, right = None, class_name = None, feature = None, div_value = None):\n",
        "        self.left = left\n",
        "        self.right = right\n",
        "        self.class_name = class_name\n",
        "        self.feature = feature\n",
        "        self.div_value = div_value\n",
        "\n",
        "    def __str__(self):\n",
        "        return f'(left = {self.left}; right  = {self.right}; class_name = {self.class_name}; feature = {self.feature}; div_value = {self.div_value})'"
      ],
      "metadata": {
        "id": "gv9Xoc6eqo_o"
      },
      "execution_count": 2021,
      "outputs": []
    },
    {
      "cell_type": "markdown",
      "source": [
        "Вывод дерева в читаемом виде"
      ],
      "metadata": {
        "id": "9pRtifM0NO4L"
      }
    },
    {
      "cell_type": "code",
      "source": [
        "def tree_to_string(root, depth=0):\n",
        "\n",
        "        indentation = '        ' * depth * 2\n",
        "        format = '--' * (depth + 1)\n",
        "\n",
        "        if root.class_name is not None:\n",
        "            print(f\"{indentation}|{format} class_name = {'Не кушать, ядовитый' if root.class_name == 1 else 'Ням-ням'}\")\n",
        "\n",
        "        else:\n",
        "            feature = columns[root.feature]\n",
        "            div_value = root.div_value\n",
        "\n",
        "            print(f'{indentation}|{format} {feature} < {div_value}')\n",
        "            tree_to_string(root.left, depth + 1)\n",
        "\n",
        "            print(f'{indentation}|{format} {feature} >= {div_value}')\n",
        "            tree_to_string(root.right, depth + 1)"
      ],
      "metadata": {
        "id": "PpRS0Ps88YVY"
      },
      "execution_count": 2022,
      "outputs": []
    },
    {
      "cell_type": "markdown",
      "source": [
        "Вычисление энтропии для определения чистоты подмножества"
      ],
      "metadata": {
        "id": "jAlrB56DIn6L"
      }
    },
    {
      "cell_type": "code",
      "source": [
        "def calculate_entropy(Y_values):\n",
        "    if len(Y_values) == 0:\n",
        "        return 0\n",
        "\n",
        "    p1 = np.mean(Y_values == Y_values[0])\n",
        "    p2 = 1 - p1\n",
        "\n",
        "    if (p1  == 1 or p2 == 1):\n",
        "        return 0\n",
        "\n",
        "    return -(p1 * math.log2(p1) + p2 * math.log2(p2))"
      ],
      "metadata": {
        "id": "cR1wFjFzDL2s"
      },
      "execution_count": 2023,
      "outputs": []
    },
    {
      "cell_type": "markdown",
      "source": [
        "Вычисление информационного выигрыша при разбиении по данному признаку X"
      ],
      "metadata": {
        "id": "ogF8hhnXPwZ-"
      }
    },
    {
      "cell_type": "code",
      "source": [
        "def calculate_gain(X, Y):\n",
        "    #  энтропия до разделения\n",
        "    before = calculate_entropy(Y.values)\n",
        "\n",
        "    #  находим уникальные значения признака и количество вхождений каждого уникального признака\n",
        "    values, occurrences = np.unique(X, return_counts=True)\n",
        "    total = len(Y.values)\n",
        "\n",
        "    #  массив энтропий для того, чтобы получить взвешанную энтропию (ВЭ потом будет использоваться для определения выгоды от разделения по данному признаку)\n",
        "    entropies = []\n",
        "    #  пробегаюсь по всем уникальным значениям признака\n",
        "    for i, value in enumerate(values):\n",
        "\n",
        "        #  вычисляю вероятность (количество объектов с таким признаком / общее количество объектов)\n",
        "        prob = occurrences[i] / total\n",
        "\n",
        "        #  все метки данного значения X\n",
        "        cur_labels = Y[X == value]\n",
        "\n",
        "        #  выщитываю энтропию меток полученных значений меток для данного уникального значения\n",
        "        tmp_entropy = prob * calculate_entropy(cur_labels.values)\n",
        "\n",
        "        #  добавляю в массив энтропий\n",
        "        entropies.append(tmp_entropy)\n",
        "\n",
        "    return before - sum(entropies)"
      ],
      "metadata": {
        "id": "KXaJedAePR-I"
      },
      "execution_count": 2024,
      "outputs": []
    },
    {
      "cell_type": "markdown",
      "source": [
        "Построение модели\n",
        "\n",
        "Способ ограничения: глубина дерева"
      ],
      "metadata": {
        "id": "0wIRUu6PRLan"
      }
    },
    {
      "cell_type": "code",
      "source": [
        "def build_nodes(X, Y, cur_depth, max_depth):\n",
        "    Y_values = Y.values\n",
        "\n",
        "    #  если все метки одинаковые, то энтропия == 0, значит нашли лист\n",
        "    if len(np.unique(Y_values)) == 1:\n",
        "        return TreeNode(class_name = Y_values[0])\n",
        "\n",
        "    #  если текущая длина превысила предельную, то опеределяем класс по принципу большинства\n",
        "    if (cur_depth >= max_depth):\n",
        "        labels = np.unique(Y_values)\n",
        "        label = Y_values[0]\n",
        "        l1_count = 0\n",
        "        for i in range(len(Y_values)):\n",
        "            if Y_values[i] == label:\n",
        "                l1_count += 1\n",
        "        l2_count = len(Y_values) - l1_count\n",
        "        return TreeNode(class_name = labels[0] if l1_count >= l2_count else labels[1])\n",
        "\n",
        "    max_gain = 0\n",
        "    final_feature_ind = None\n",
        "    final_div_value = None\n",
        "\n",
        "    # print(X)\n",
        "    #  для каждого признака признакам\n",
        "    for cur_column_ind in range(X.shape[1]):\n",
        "        #  рассматриваем возможность разделения по каждому уникальному значению\n",
        "        for div_value in np.unique(X.iloc[:, cur_column_ind]):\n",
        "            #  делим\n",
        "            left = X.iloc[:, cur_column_ind] < div_value\n",
        "            right = X.iloc[:, cur_column_ind] >= div_value\n",
        "\n",
        "            #  если нет смысла в разделении, пропускаем значение признака\n",
        "            if (sum(left) == 0 or sum(right) == 0):\n",
        "                continue\n",
        "\n",
        "            #  высчитываем выигрыш\n",
        "            cur_gain = calculate_gain(left, Y)\n",
        "            #  запоминаем\n",
        "            if cur_gain > max_gain:\n",
        "                max_gain = cur_gain\n",
        "                final_feature_ind = cur_column_ind\n",
        "                final_div_value = div_value\n",
        "\n",
        "    #  если выигрыша не обнаружено, поступаем как в случае с превышением глубины (большинство)\n",
        "    if (max_gain == 0 or final_feature_ind is None or final_div_value is None):\n",
        "        labels = np.unique(Y_values)\n",
        "        label = Y_values[0]\n",
        "        l1_count = 0\n",
        "        for i in range(len(Y_values)):\n",
        "            if Y_values[i] == label:\n",
        "                l1_count += 1\n",
        "        l2_count = len(Y_values) - l1_count\n",
        "        return TreeNode(class_name = labels[0] if l1_count >= l2_count else labels[1])\n",
        "\n",
        "    #  определяем индексы разделений\n",
        "    left_X_ind = X.iloc[:, final_feature_ind] < final_div_value\n",
        "    rigth_X_ind = X.iloc[:, final_feature_ind] >= final_div_value\n",
        "\n",
        "    #  строим левое и правое деревья\n",
        "    left_tree_node = build_nodes(X[left_X_ind], Y[left_X_ind], cur_depth + 1, max_depth)\n",
        "    right_tree_node = build_nodes(X[rigth_X_ind], Y[rigth_X_ind], cur_depth + 1, max_depth)\n",
        "\n",
        "    return TreeNode(left = left_tree_node,\n",
        "                    right = right_tree_node,\n",
        "                    feature = final_feature_ind,\n",
        "                    div_value = final_div_value)"
      ],
      "metadata": {
        "id": "xn8dWPlgRNSf"
      },
      "execution_count": 2025,
      "outputs": []
    },
    {
      "cell_type": "markdown",
      "source": [
        "Создание модели на тренировочных данных и вывод в удобном виде"
      ],
      "metadata": {
        "id": "mo60EfeEFh3X"
      }
    },
    {
      "cell_type": "code",
      "source": [
        "tree_depth = 4\n",
        "model = build_nodes(X_train, Y_train, 0, tree_depth)\n",
        "\n",
        "tree_to_string(model)"
      ],
      "metadata": {
        "colab": {
          "base_uri": "https://localhost:8080/"
        },
        "id": "t6qxr5G0FgME",
        "outputId": "290dcf19-bb2f-44ba-e56f-83045e6aed87"
      },
      "execution_count": 2026,
      "outputs": [
        {
          "output_type": "stream",
          "name": "stdout",
          "text": [
            "|-- gill-color < 1\n",
            "                |---- class_name = Не кушать, ядовитый\n",
            "|-- gill-color >= 1\n",
            "                |---- stalk-surface-above-ring < 2\n",
            "                                |------ population < 4\n",
            "                                                |-------- habitat < 1\n",
            "                                                                |---------- class_name = Не кушать, ядовитый\n",
            "                                                |-------- habitat >= 1\n",
            "                                                                |---------- class_name = Ням-ням\n",
            "                                |------ population >= 4\n",
            "                                                |-------- gill-color < 10\n",
            "                                                                |---------- class_name = Не кушать, ядовитый\n",
            "                                                |-------- gill-color >= 10\n",
            "                                                                |---------- class_name = Ням-ням\n",
            "                |---- stalk-surface-above-ring >= 2\n",
            "                                |------ population < 5\n",
            "                                                |-------- population < 3\n",
            "                                                                |---------- class_name = Ням-ням\n",
            "                                                |-------- population >= 3\n",
            "                                                                |---------- class_name = Ням-ням\n",
            "                                |------ population >= 5\n",
            "                                                |-------- class_name = Ням-ням\n"
          ]
        }
      ]
    },
    {
      "cell_type": "markdown",
      "source": [
        "Предсказание на тестовых данных"
      ],
      "metadata": {
        "id": "SXO4e8BIf6mF"
      }
    },
    {
      "cell_type": "code",
      "source": [
        "def predict(X_object_values, root):\n",
        "    if root.class_name is not None:\n",
        "        return root.class_name\n",
        "\n",
        "    if (X_object_values[root.feature] < root.div_value):\n",
        "        return predict(X_object_values, root.left)\n",
        "    else:\n",
        "        return predict(X_object_values, root.right)"
      ],
      "metadata": {
        "id": "eGFuYXq1ntXF"
      },
      "execution_count": 2027,
      "outputs": []
    },
    {
      "cell_type": "code",
      "source": [
        "def predict_all(X, model):\n",
        "    X_values = X.values\n",
        "    Y_values = Y.values\n",
        "    prediction = []\n",
        "    for row in X_values:\n",
        "        prediction.append(predict(row, model))\n",
        "    return prediction"
      ],
      "metadata": {
        "id": "077HxO7Jf9yR"
      },
      "execution_count": 2028,
      "outputs": []
    },
    {
      "cell_type": "code",
      "source": [
        "prediction = predict_all(X_test, model)"
      ],
      "metadata": {
        "id": "aAm9jBpkoUCu"
      },
      "execution_count": 2029,
      "outputs": []
    },
    {
      "cell_type": "markdown",
      "source": [
        "# Оценка алгоритма"
      ],
      "metadata": {
        "id": "9wZrzlwVf6BD"
      }
    },
    {
      "cell_type": "markdown",
      "source": [
        "Посторим матрицу ошибок:"
      ],
      "metadata": {
        "id": "aKhC_YexCigE"
      }
    },
    {
      "cell_type": "code",
      "source": [
        "true_positive = 0\n",
        "true_negative = 0\n",
        "false_positive = 0\n",
        "false_negative = 0\n",
        "\n",
        "for i in range(len(Y_test)):\n",
        "    if prediction[i] == 1:\n",
        "        if Y_test.values[i] == 1:\n",
        "            true_positive += 1\n",
        "        else:\n",
        "            false_positive += 1\n",
        "    else:\n",
        "        if Y_test.values[i] == 1:\n",
        "            false_negative += 1\n",
        "        else:\n",
        "            true_negative += 1"
      ],
      "metadata": {
        "id": "SMwyx2BLCl1x"
      },
      "execution_count": 2030,
      "outputs": []
    },
    {
      "cell_type": "code",
      "source": [
        "confusion_matrix = [[true_positive, false_positive], [false_negative, true_negative]]\n",
        "cm_indeces = ['Positive', 'Negative']\n",
        "df_cm = pd.DataFrame(confusion_matrix, index = cm_indeces, columns = cm_indeces)\n",
        "sn.set_context(\"paper\", rc={\"font.size\":12,\"axes.titlesize\":8,\"axes.labelsize\":5})\n",
        "sn.heatmap(df_cm, annot=True, fmt='.0f', cmap=\"Greens\")\n",
        "plt.show()"
      ],
      "metadata": {
        "colab": {
          "base_uri": "https://localhost:8080/",
          "height": 430
        },
        "id": "j38RK4rMEIuo",
        "outputId": "7cdf398a-69ab-494c-e6d0-e7518f0b273c"
      },
      "execution_count": 2031,
      "outputs": [
        {
          "output_type": "display_data",
          "data": {
            "text/plain": [
              "<Figure size 640x480 with 2 Axes>"
            ],
            "image/png": "[encoded data removed]"
          },
          "metadata": {}
        }
      ]
    },
    {
      "cell_type": "markdown",
      "source": [
        "## accuracy (точность предсказания)"
      ],
      "metadata": {
        "id": "Ptze7Orlf--8"
      }
    },
    {
      "cell_type": "code",
      "source": [
        "accuracy = (true_positive + true_negative) / (true_positive + true_negative + false_positive + false_negative)\n",
        "print(f'accuracy = {accuracy * 100}%')"
      ],
      "metadata": {
        "colab": {
          "base_uri": "https://localhost:8080/"
        },
        "id": "3bZxwQcCLcOJ",
        "outputId": "abd93582-6d1c-4ba9-d428-86cd6d4d10c6"
      },
      "execution_count": 2032,
      "outputs": [
        {
          "output_type": "stream",
          "name": "stdout",
          "text": [
            "accuracy = 90.82512315270937%\n"
          ]
        }
      ]
    },
    {
      "cell_type": "markdown",
      "source": [
        "## precision (точность, если я скажу, что гриб ядовитый)"
      ],
      "metadata": {
        "id": "76uPnABqgBfR"
      }
    },
    {
      "cell_type": "code",
      "source": [
        "precision = (true_positive) / (true_positive + false_positive)\n",
        "print(f'precision = {precision * 100}%')"
      ],
      "metadata": {
        "colab": {
          "base_uri": "https://localhost:8080/"
        },
        "id": "c6OGhL29Nvqk",
        "outputId": "f9e057d6-075f-4fb8-acf3-f07ad2e3f64c"
      },
      "execution_count": 2033,
      "outputs": [
        {
          "output_type": "stream",
          "name": "stdout",
          "text": [
            "precision = 100.0%\n"
          ]
        }
      ]
    },
    {
      "cell_type": "markdown",
      "source": [
        "## recall (если я скажу, что гриб ядовитый, доверяйте мне на recall процентов)"
      ],
      "metadata": {
        "id": "r4bNaHtDgEH9"
      }
    },
    {
      "cell_type": "code",
      "source": [
        "recall = (true_positive) / (true_positive + false_negative)\n",
        "print(f'recall = {recall * 100}%')"
      ],
      "metadata": {
        "colab": {
          "base_uri": "https://localhost:8080/"
        },
        "id": "RZ900wWXOGK1",
        "outputId": "30004231-860d-479f-efb9-8dc10105ead0"
      },
      "execution_count": 2034,
      "outputs": [
        {
          "output_type": "stream",
          "name": "stdout",
          "text": [
            "recall = 80.08021390374331%\n"
          ]
        }
      ]
    },
    {
      "cell_type": "markdown",
      "source": [
        "# Оценка качества модели"
      ],
      "metadata": {
        "id": "-flEkbesmDx2"
      }
    },
    {
      "cell_type": "markdown",
      "source": [
        "## AUC-ROC (площадь под кривой ошибок)"
      ],
      "metadata": {
        "id": "qI4f0DdTmGjn"
      }
    },
    {
      "cell_type": "markdown",
      "source": [
        "Подсчёт TPR и FPR"
      ],
      "metadata": {
        "id": "QA8Nu6Fip4Dg"
      }
    },
    {
      "cell_type": "code",
      "source": [
        "def get_tpr_fpr(div_value, Y_test, probas):\n",
        "    predicted_values = []\n",
        "    for i in range(len(probas)):\n",
        "        if probas[i] >= div_value:\n",
        "            predicted_values.append(1)\n",
        "        else:\n",
        "            predicted_values.append(0)\n",
        "    true_positive = 0\n",
        "    true_negative = 0\n",
        "    false_positive = 0\n",
        "    false_negative = 0\n",
        "\n",
        "    for i in range(len(Y_test)):\n",
        "        if predicted_values[i] == 1:\n",
        "            if Y_test.values[i] == 1:\n",
        "                true_positive += 1\n",
        "            else:\n",
        "                false_positive += 1\n",
        "        else:\n",
        "            if Y_test.values[i] == 1:\n",
        "                false_negative += 1\n",
        "            else:\n",
        "                true_negative += 1\n",
        "\n",
        "    true_positive_rate = (true_positive) / (true_positive + false_negative)\n",
        "    false_positive_rate = (false_positive) / (false_positive + true_negative)\n",
        "    return true_positive_rate, false_positive_rate"
      ],
      "metadata": {
        "id": "Vuv8oBJFZ9iA"
      },
      "execution_count": 2035,
      "outputs": []
    },
    {
      "cell_type": "code",
      "source": [
        "def get_all_tprs(div_values, Y_test, probas):\n",
        "    tprs = []\n",
        "    for div_value in div_values:\n",
        "        tprs.append(get_tpr_fpr(div_value, Y_test, probas)[0])\n",
        "    return tprs\n",
        "\n",
        "def get_all_fprs(div_values, Y_test, probas):\n",
        "    fprs = []\n",
        "    for div_value in div_values:\n",
        "        fprs.append(get_tpr_fpr(div_value, Y_test, probas)[1])\n",
        "    return fprs"
      ],
      "metadata": {
        "id": "DkesqDiIswGq"
      },
      "execution_count": 2036,
      "outputs": []
    },
    {
      "cell_type": "markdown",
      "source": [
        "В качестве вероятности правильной классификации возьму глубину дерева (чем она меньше, тем более точной является классификация)"
      ],
      "metadata": {
        "id": "cu6SNXCNj-f1"
      }
    },
    {
      "cell_type": "code",
      "source": [
        "print(f'Исходная глубина дерева: {tree_depth}')"
      ],
      "metadata": {
        "colab": {
          "base_uri": "https://localhost:8080/"
        },
        "id": "I1cKA494kWQQ",
        "outputId": "2e6f427e-a5cc-465c-bd18-6cf84c0f3eda"
      },
      "execution_count": 2037,
      "outputs": [
        {
          "output_type": "stream",
          "name": "stdout",
          "text": [
            "Исходная глубина дерева: 4\n"
          ]
        }
      ]
    },
    {
      "cell_type": "markdown",
      "source": [
        "Подсчет вероятности как глубины"
      ],
      "metadata": {
        "id": "Ux1TCzAtliS3"
      }
    },
    {
      "cell_type": "code",
      "source": [
        "def calculate_proba(X_values, root, depth=0):\n",
        "    if root.class_name is not None:\n",
        "        return 1 / depth\n",
        "\n",
        "    if (X_values[root.feature] < root.div_value):\n",
        "        return calculate_proba(X_values, root.left, depth + 1)\n",
        "    else:\n",
        "        return calculate_proba(X_values, root.right, depth + 1)"
      ],
      "metadata": {
        "id": "DJbZ7wfvljqx"
      },
      "execution_count": 2038,
      "outputs": []
    },
    {
      "cell_type": "code",
      "source": [
        "def calculate_probas(X, model):\n",
        "    X_values = X.values\n",
        "    probas = []\n",
        "    for row in X_values:\n",
        "        probas.append(calculate_proba(row, model))\n",
        "    return probas"
      ],
      "metadata": {
        "id": "SlnfDsztmxtB"
      },
      "execution_count": 2039,
      "outputs": []
    },
    {
      "cell_type": "markdown",
      "source": [
        "Получение вероятностей вместо точных предсказаний"
      ],
      "metadata": {
        "id": "37w8uaReIcnu"
      }
    },
    {
      "cell_type": "code",
      "source": [
        "probas = np.sort(calculate_probas(X_test, model))\n",
        "unique_probas = np.unique(probas)"
      ],
      "metadata": {
        "id": "LNyCQ4MUdDxX"
      },
      "execution_count": 2040,
      "outputs": []
    },
    {
      "cell_type": "code",
      "source": [
        "tprs = get_all_tprs(np.unique(probas), Y_test, probas)\n",
        "fprs = get_all_fprs(np.unique(probas), Y_test, probas)"
      ],
      "metadata": {
        "id": "YGOkYwRJtt4H"
      },
      "execution_count": 2041,
      "outputs": []
    },
    {
      "cell_type": "code",
      "source": [
        "tprs"
      ],
      "metadata": {
        "colab": {
          "base_uri": "https://localhost:8080/"
        },
        "id": "fQ-2zTHXt8mP",
        "outputId": "7fab01a9-221d-4634-8dfc-71a2adba38da"
      },
      "execution_count": 2042,
      "outputs": [
        {
          "output_type": "execute_result",
          "data": {
            "text/plain": [
              "[1.0, 0.3181818181818182, 0.20989304812834225]"
            ]
          },
          "metadata": {},
          "execution_count": 2042
        }
      ]
    },
    {
      "cell_type": "code",
      "source": [
        "fprs"
      ],
      "metadata": {
        "colab": {
          "base_uri": "https://localhost:8080/"
        },
        "id": "Y4uUtRwnt9iF",
        "outputId": "eb70c67a-1c1d-4f71-c6e2-0733547b77e3"
      },
      "execution_count": 2043,
      "outputs": [
        {
          "output_type": "execute_result",
          "data": {
            "text/plain": [
              "[1.0, 0.3687214611872146, 0.22146118721461186]"
            ]
          },
          "metadata": {},
          "execution_count": 2043
        }
      ]
    },
    {
      "cell_type": "markdown",
      "source": [
        "Визуализация Receiver Operating Characteristic curve"
      ],
      "metadata": {
        "id": "WpYcERwMIhHf"
      }
    },
    {
      "cell_type": "code",
      "source": [
        "plt.title('ROC curve', fontsize=12)\n",
        "plt.xlabel('FPR', fontsize=8)\n",
        "plt.ylabel('TPR', fontsize=8)\n",
        "plt.plot(fprs, tprs, 'b', fprs, fprs, 'r')\n",
        "plt.xlim(0, 1.2)\n",
        "plt.ylim(0, 1.2)\n",
        "plt.show()"
      ],
      "metadata": {
        "colab": {
          "base_uri": "https://localhost:8080/",
          "height": 468
        },
        "id": "GlMRrnUFvKCN",
        "outputId": "e4921ed7-ab4a-4c6b-f6ac-58a5b7242ec1"
      },
      "execution_count": 2044,
      "outputs": [
        {
          "output_type": "display_data",
          "data": {
            "text/plain": [
              "<Figure size 640x480 with 1 Axes>"
            ],
            "image/png": "[encoded data removed]"
          },
          "metadata": {}
        }
      ]
    },
    {
      "cell_type": "markdown",
      "source": [
        "Подсчет площади под кривой (метод трапеций)"
      ],
      "metadata": {
        "id": "shsUYLUt5v-a"
      }
    },
    {
      "cell_type": "code",
      "source": [
        "auc_roc = 0\n",
        "for i in range(len(fprs) - 1):\n",
        "    s = (tprs[i] + tprs[i+1]) / 2 * (fprs[i + 1] - fprs[i])\n",
        "    auc_roc += s\n",
        "print(f'auc_roc = {abs(auc_roc)}')"
      ],
      "metadata": {
        "colab": {
          "base_uri": "https://localhost:8080/"
        },
        "id": "t2MYLZxQ5t1W",
        "outputId": "ac335529-f947-4ddd-94bc-e2a9803e0b41"
      },
      "execution_count": 2045,
      "outputs": [
        {
          "output_type": "stream",
          "name": "stdout",
          "text": [
            "auc_roc = 0.45495217078113936\n"
          ]
        }
      ]
    },
    {
      "cell_type": "markdown",
      "source": [
        "## AUC-PR"
      ],
      "metadata": {
        "id": "1RyKiwU_mKE-"
      }
    },
    {
      "cell_type": "markdown",
      "source": [
        "Подсчет precisions и recalls"
      ],
      "metadata": {
        "id": "HN47K0qaIzeF"
      }
    },
    {
      "cell_type": "code",
      "source": [
        "def get_precision_recall(div_value, Y_test, probas):\n",
        "    predicted_values = []\n",
        "    for i in range(len(probas)):\n",
        "        if probas[i] >= div_value:\n",
        "            predicted_values.append(1)\n",
        "        else:\n",
        "            predicted_values.append(0)\n",
        "    true_positive = 0\n",
        "    true_negative = 0\n",
        "    false_positive = 0\n",
        "    false_negative = 0\n",
        "\n",
        "    for i in range(len(Y_test)):\n",
        "        if predicted_values[i] == 1:\n",
        "            if Y_test.values[i] == 1:\n",
        "                true_positive += 1\n",
        "            else:\n",
        "                false_positive += 1\n",
        "        else:\n",
        "            if Y_test.values[i] == 1:\n",
        "                false_negative += 1\n",
        "            else:\n",
        "                true_negative += 1\n",
        "\n",
        "    precision = (true_positive) / (true_positive + false_positive)\n",
        "    recall = (true_positive) / (true_positive + false_negative)\n",
        "\n",
        "    return precision, recall"
      ],
      "metadata": {
        "id": "CiSY30c_7qic"
      },
      "execution_count": 2046,
      "outputs": []
    },
    {
      "cell_type": "code",
      "source": [
        "def get_all_precisions(div_values, Y_test, probas):\n",
        "    precisions = []\n",
        "    for div_value in div_values:\n",
        "        precisions.append(get_precision_recall(div_value, Y_test, probas)[0])\n",
        "    return precisions\n",
        "\n",
        "def get_all_recalls(div_values, Y_test, probas):\n",
        "    recalls = []\n",
        "    for div_value in div_values:\n",
        "        recalls.append(get_precision_recall(div_value, Y_test, probas)[1])\n",
        "    return recalls"
      ],
      "metadata": {
        "id": "6dkILv7s73yn"
      },
      "execution_count": 2047,
      "outputs": []
    },
    {
      "cell_type": "markdown",
      "source": [
        "Получение precisions и recalls"
      ],
      "metadata": {
        "id": "ENZmyj8wI4gM"
      }
    },
    {
      "cell_type": "code",
      "source": [
        "precisions = get_all_precisions(np.unique(probas), Y_test, probas)\n",
        "recalls = get_all_recalls(np.unique(probas), Y_test, probas)"
      ],
      "metadata": {
        "id": "NHGteN7O8U_C"
      },
      "execution_count": 2048,
      "outputs": []
    },
    {
      "cell_type": "code",
      "source": [
        "precisions"
      ],
      "metadata": {
        "colab": {
          "base_uri": "https://localhost:8080/"
        },
        "id": "JYsrH2HM8j_M",
        "outputId": "286eb10f-0b9e-4723-b804-28e67722919b"
      },
      "execution_count": 2049,
      "outputs": [
        {
          "output_type": "execute_result",
          "data": {
            "text/plain": [
              "[0.4605911330049261, 0.42424242424242425, 0.4472934472934473]"
            ]
          },
          "metadata": {},
          "execution_count": 2049
        }
      ]
    },
    {
      "cell_type": "code",
      "source": [
        "recalls"
      ],
      "metadata": {
        "colab": {
          "base_uri": "https://localhost:8080/"
        },
        "id": "DBmW07Rc8mou",
        "outputId": "6fb3f44c-1508-41e8-905d-f03a66c40359"
      },
      "execution_count": 2050,
      "outputs": [
        {
          "output_type": "execute_result",
          "data": {
            "text/plain": [
              "[1.0, 0.3181818181818182, 0.20989304812834225]"
            ]
          },
          "metadata": {},
          "execution_count": 2050
        }
      ]
    },
    {
      "cell_type": "markdown",
      "source": [
        "Визуализация precision-recall curve"
      ],
      "metadata": {
        "id": "24SOdI9XJKcf"
      }
    },
    {
      "cell_type": "code",
      "source": [
        "plt.title('PR curve', fontsize=12)\n",
        "plt.xlabel('recall', fontsize=8)\n",
        "plt.ylabel('precision', fontsize=8)\n",
        "plt.plot(recalls, precisions, 'b', recalls, [1 - i for i in recalls], 'r')\n",
        "plt.xlim(0, 1.2)\n",
        "plt.ylim(0, 1.2)\n",
        "plt.show()"
      ],
      "metadata": {
        "colab": {
          "base_uri": "https://localhost:8080/",
          "height": 468
        },
        "id": "9ZudZ6HF84Cp",
        "outputId": "bbb5dec5-932e-41fe-d60e-826d2c8a8145"
      },
      "execution_count": 2051,
      "outputs": [
        {
          "output_type": "display_data",
          "data": {
            "text/plain": [
              "<Figure size 640x480 with 1 Axes>"
            ],
            "image/png": "[encoded data removed]"
          },
          "metadata": {}
        }
      ]
    },
    {
      "cell_type": "code",
      "source": [
        "auc_pr = 0\n",
        "for i in range(len(fprs) - 1):\n",
        "    s = (precisions[i] + precisions[i+1]) / 2 * (recalls[i + 1] - recalls[i])\n",
        "    auc_pr += s\n",
        "print(f'auc_roc = {abs(auc_pr)}')"
      ],
      "metadata": {
        "colab": {
          "base_uri": "https://localhost:8080/"
        },
        "id": "6twiwOme-uW8",
        "outputId": "3d8696e7-eb0a-4dc4-bfcc-a83d9ff29e7a"
      },
      "execution_count": 2052,
      "outputs": [
        {
          "output_type": "stream",
          "name": "stdout",
          "text": [
            "auc_roc = 0.34883657740010315\n"
          ]
        }
      ]
    }
  ]
}